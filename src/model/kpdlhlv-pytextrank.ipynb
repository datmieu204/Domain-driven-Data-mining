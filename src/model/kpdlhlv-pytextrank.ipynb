{
 "cells": [
  {
   "cell_type": "code",
   "execution_count": 10,
   "metadata": {},
   "outputs": [
    {
     "data": {
      "text/plain": [
       "Bước vào trận đấu , Barcelona nhanh chóng tràn lên tấn công nhưng vấp phải sự kháng cự quyết liệt của Sevilla . Bước ngoặt đến ở phút 22 , Raphinha bị phạm lỗi trong vòng cấm và trọng tài đã cho Barcelona hưởng quả phạt đền . Trên chấm 11 m , Lewandowski đã ghi bàn mở tỷ số cho Barcelona . Đến phút 28 , Pedri đã có bàn nhân đôi cách biệt cho đội chủ nhà trước khi Lewandowski hoàn tất cú đúp cho riêng mình ở phút 39 . Hiệp 1 khép lại với tỉ số 3-0 nghiêng về Barcelona . Sang hiệp 2 , các chân sút của Barcelona liên tiếp bắn phá khung thành của Sevilla nhưng rất tiếc đều rơi vào thế việt vị . Tuy nhiên , chỉ trong vòng ít phút từ phút 82 đến 88 , các khán giả có mặt trên sân Olimpic Lluis Companys đã được chứng kiến tới 3 bàn thắng . Cầu thủ vào sân thay người bên phía Barcelona là Torre lập cú đúp , xen giữa là bàn thắng danh dự của Idumbo bên phía Sevilla . Chung cuộc , Barca thắng Sevilal với tỷ số 5-1 . Như vậy , đoàn quân của HLV Hansi Flick củng cố vị trí dẫn đầu trên bảng xếp hạng La Liga , duy trì khoảng cách 3 điểm với đại kình địch Real Madrid ."
      ]
     },
     "execution_count": 10,
     "metadata": {},
     "output_type": "execute_result"
    }
   ],
   "source": [
    "\n",
    "import spacy\n",
    "import pytextrank\n",
    "\n",
    "# example text\n",
    "text = \"Bước vào trận đấu , Barcelona nhanh chóng tràn lên tấn công nhưng vấp phải sự kháng cự quyết liệt của Sevilla . Bước ngoặt đến ở phút 22 , Raphinha bị phạm lỗi trong vòng cấm và trọng tài đã cho Barcelona hưởng quả phạt đền . Trên chấm 11 m , Lewandowski đã ghi bàn mở tỷ số cho Barcelona . Đến phút 28 , Pedri đã có bàn nhân đôi cách biệt cho đội chủ nhà trước khi Lewandowski hoàn tất cú đúp cho riêng mình ở phút 39 . Hiệp 1 khép lại với tỉ số 3-0 nghiêng về Barcelona . Sang hiệp 2 , các chân sút của Barcelona liên tiếp bắn phá khung thành của Sevilla nhưng rất tiếc đều rơi vào thế việt vị . Tuy nhiên , chỉ trong vòng ít phút từ phút 82 đến 88 , các khán giả có mặt trên sân Olimpic Lluis Companys đã được chứng kiến tới 3 bàn thắng . Cầu thủ vào sân thay người bên phía Barcelona là Torre lập cú đúp , xen giữa là bàn thắng danh dự của Idumbo bên phía Sevilla . Chung cuộc , Barca thắng Sevilal với tỷ số 5-1 . Như vậy , đoàn quân của HLV Hansi Flick củng cố vị trí dẫn đầu trên bảng xếp hạng La Liga , duy trì khoảng cách 3 điểm với đại kình địch Real Madrid .\"\n",
    "\n",
    "# load a spaCy model, depending on language, scale, etc.\n",
    "nlp = spacy.load('vi_core_news_lg')\n",
    "\n",
    "# add PyTextRank to the spaCy pipeline\n",
    "nlp.add_pipe(\"textrank\")\n",
    "doc = nlp(text)\n",
    "\n",
    "# examine the top-ranked phrases in the document\n",
    "doc"
   ]
  }
 ],
 "metadata": {
  "kernelspec": {
   "display_name": "KPDLHLV3.9venv",
   "language": "python",
   "name": "python3"
  },
  "language_info": {
   "codemirror_mode": {
    "name": "ipython",
    "version": 3
   },
   "file_extension": ".py",
   "mimetype": "text/x-python",
   "name": "python",
   "nbconvert_exporter": "python",
   "pygments_lexer": "ipython3",
   "version": "3.9.20"
  }
 },
 "nbformat": 4,
 "nbformat_minor": 2
}
