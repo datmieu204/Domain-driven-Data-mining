{
 "cells": [
  {
   "cell_type": "markdown",
   "metadata": {},
   "source": [
    "# Chuyển multi-label -> single-label sử dụng:\n",
    "* Binary Relevance: coi mỗi nhãn là một phân loại lớp riêng biệt.\n",
    "* Classifier Chains: bộ phân loại đầu tiên chỉ được huấn luyện dựa trên dữ liệu đầu vào và sau đó mỗi bộ phân loại tiếp theo được huấn luyện trên không gian đầu vào và tất cả các bộ phân loại trước đó trong chuỗi ⇒ Bảo toàn mối tương quan các nhãn.\n",
    "* Label Powerset: chuyển BT thành BT đa lớp với một bộ phân loại đa lớp được đào tạo trên tất cả các kết hợp nhãn duy nhất được tìm thấy trong dữ liệu đào tạo."
   ]
  },
  {
   "cell_type": "code",
   "execution_count": 1,
   "metadata": {
    "execution": {
     "iopub.execute_input": "2024-12-01T05:50:21.501305Z",
     "iopub.status.busy": "2024-12-01T05:50:21.500550Z",
     "iopub.status.idle": "2024-12-01T05:50:30.933210Z",
     "shell.execute_reply": "2024-12-01T05:50:30.931988Z",
     "shell.execute_reply.started": "2024-12-01T05:50:21.501259Z"
    },
    "trusted": true
   },
   "outputs": [
    {
     "name": "stdout",
     "output_type": "stream",
     "text": [
      "Requirement already satisfied: scikit-multilearn in /opt/conda/lib/python3.10/site-packages (0.2.0)\n",
      "Requirement already satisfied: regex in /opt/conda/lib/python3.10/site-packages (2024.5.15)\n"
     ]
    }
   ],
   "source": [
    "!pip install scikit-multilearn regex"
   ]
  },
  {
   "cell_type": "code",
   "execution_count": 2,
   "metadata": {
    "execution": {
     "iopub.execute_input": "2024-12-01T05:50:30.935672Z",
     "iopub.status.busy": "2024-12-01T05:50:30.935348Z",
     "iopub.status.idle": "2024-12-01T05:50:32.945191Z",
     "shell.execute_reply": "2024-12-01T05:50:32.944452Z",
     "shell.execute_reply.started": "2024-12-01T05:50:30.935642Z"
    },
    "trusted": true
   },
   "outputs": [],
   "source": [
    "import pandas as pd\n",
    "import numpy as np\n",
    "import matplotlib.pyplot as plt\n",
    "import seaborn as sns"
   ]
  },
  {
   "cell_type": "code",
   "execution_count": 24,
   "metadata": {
    "execution": {
     "iopub.execute_input": "2024-12-01T08:58:45.802148Z",
     "iopub.status.busy": "2024-12-01T08:58:45.801402Z",
     "iopub.status.idle": "2024-12-01T08:58:45.806406Z",
     "shell.execute_reply": "2024-12-01T08:58:45.805608Z",
     "shell.execute_reply.started": "2024-12-01T08:58:45.802090Z"
    },
    "trusted": true
   },
   "outputs": [],
   "source": [
    "# ML Pkgs\n",
    "from sklearn.linear_model import LogisticRegression\n",
    "from sklearn.neighbors import KNeighborsClassifier\n",
    "from sklearn.tree import DecisionTreeClassifier\n",
    "from sklearn.naive_bayes import GaussianNB,MultinomialNB\n",
    "from sklearn.metrics import accuracy_score,hamming_loss,classification_report,f1_score"
   ]
  },
  {
   "cell_type": "code",
   "execution_count": 25,
   "metadata": {
    "execution": {
     "iopub.execute_input": "2024-12-01T08:58:49.248614Z",
     "iopub.status.busy": "2024-12-01T08:58:49.248254Z",
     "iopub.status.idle": "2024-12-01T08:58:49.253786Z",
     "shell.execute_reply": "2024-12-01T08:58:49.252563Z",
     "shell.execute_reply.started": "2024-12-01T08:58:49.248582Z"
    },
    "trusted": true
   },
   "outputs": [],
   "source": [
    "### Split Dataset into Train and Text\n",
    "from sklearn.model_selection import train_test_split,cross_val_score,KFold\n",
    "# Feature engineering\n",
    "from sklearn.feature_extraction.text import TfidfVectorizer"
   ]
  },
  {
   "cell_type": "code",
   "execution_count": 5,
   "metadata": {
    "execution": {
     "iopub.execute_input": "2024-12-01T05:50:33.378471Z",
     "iopub.status.busy": "2024-12-01T05:50:33.378210Z",
     "iopub.status.idle": "2024-12-01T05:50:33.397915Z",
     "shell.execute_reply": "2024-12-01T05:50:33.397285Z",
     "shell.execute_reply.started": "2024-12-01T05:50:33.378446Z"
    },
    "trusted": true
   },
   "outputs": [],
   "source": [
    "# Multi Label Pkgs\n",
    "from skmultilearn.problem_transform import BinaryRelevance\n",
    "from skmultilearn.problem_transform import ClassifierChain\n",
    "from skmultilearn.problem_transform import LabelPowerset\n",
    "from skmultilearn.adapt import MLkNN"
   ]
  },
  {
   "cell_type": "code",
   "execution_count": 6,
   "metadata": {
    "execution": {
     "iopub.execute_input": "2024-12-01T05:50:33.399271Z",
     "iopub.status.busy": "2024-12-01T05:50:33.399008Z",
     "iopub.status.idle": "2024-12-01T05:50:33.409005Z",
     "shell.execute_reply": "2024-12-01T05:50:33.408152Z",
     "shell.execute_reply.started": "2024-12-01T05:50:33.399246Z"
    },
    "trusted": true
   },
   "outputs": [],
   "source": [
    "def reduce_mem_usage(df):\n",
    "    \"\"\" iterate through all the columns of a dataframe and modify the data type\n",
    "        to reduce memory usage.        \n",
    "    \"\"\"\n",
    "    start_mem = df.memory_usage().sum() / 1024**2\n",
    "    print('Memory usage of dataframe is {:.2f} MB'.format(start_mem))\n",
    "    \n",
    "    for col in df.columns:\n",
    "        col_type = df[col].dtype\n",
    "        \n",
    "        if col_type != object:\n",
    "            c_min = df[col].min()\n",
    "            c_max = df[col].max()\n",
    "            if str(col_type)[:3] == 'int':\n",
    "                if c_min > np.iinfo(np.int8).min and c_max < np.iinfo(np.int8).max:\n",
    "                    df[col] = df[col].astype(np.int8)\n",
    "                elif c_min > np.iinfo(np.int16).min and c_max < np.iinfo(np.int16).max:\n",
    "                    df[col] = df[col].astype(np.int16)\n",
    "                elif c_min > np.iinfo(np.int32).min and c_max < np.iinfo(np.int32).max:\n",
    "                    df[col] = df[col].astype(np.int32)\n",
    "                elif c_min > np.iinfo(np.int64).min and c_max < np.iinfo(np.int64).max:\n",
    "                    df[col] = df[col].astype(np.int64)  \n",
    "            else:\n",
    "                if c_min > np.finfo(np.float16).min and c_max < np.finfo(np.float16).max:\n",
    "                    df[col] = df[col].astype(np.float16)\n",
    "                elif c_min > np.finfo(np.float32).min and c_max < np.finfo(np.float32).max:\n",
    "                    df[col] = df[col].astype(np.float32)\n",
    "                else:\n",
    "                    df[col] = df[col].astype(np.float64)\n",
    "        else:\n",
    "            df[col] = df[col].astype('category')\n",
    "\n",
    "    end_mem = df.memory_usage().sum() / 1024**2\n",
    "    print('Memory usage after optimization is: {:.2f} MB'.format(end_mem))\n",
    "    print('Decreased by {:.1f}%'.format(100 * (start_mem - end_mem) / start_mem))\n",
    "    \n",
    "    return df\n",
    "\n",
    "\n",
    "def import_data(file):\n",
    "    \"\"\"create a dataframe and optimize its memory usage\"\"\"\n",
    "    df = pd.read_csv(file, parse_dates=True, keep_date_col=True)\n",
    "    df = reduce_mem_usage(df)\n",
    "    return df"
   ]
  },
  {
   "cell_type": "code",
   "execution_count": 7,
   "metadata": {
    "execution": {
     "iopub.execute_input": "2024-12-01T05:50:33.410370Z",
     "iopub.status.busy": "2024-12-01T05:50:33.410026Z",
     "iopub.status.idle": "2024-12-01T05:51:21.303164Z",
     "shell.execute_reply": "2024-12-01T05:51:21.301963Z",
     "shell.execute_reply.started": "2024-12-01T05:50:33.410342Z"
    },
    "trusted": true
   },
   "outputs": [
    {
     "name": "stderr",
     "output_type": "stream",
     "text": [
      "/tmp/ipykernel_193/147790395.py:42: FutureWarning: The 'keep_date_col' keyword in pd.read_csv is deprecated and will be removed in a future version. Explicitly remove unwanted columns after parsing instead.\n",
      "  df = pd.read_csv(file, parse_dates=True, keep_date_col=True)\n"
     ]
    },
    {
     "name": "stdout",
     "output_type": "stream",
     "text": [
      "Memory usage of dataframe is 2.25 MB\n",
      "Memory usage after optimization is: 9.42 MB\n",
      "Decreased by -318.2%\n",
      "Memory usage of dataframe is 1.15 MB\n",
      "Memory usage after optimization is: 3.02 MB\n",
      "Decreased by -162.4%\n"
     ]
    },
    {
     "name": "stderr",
     "output_type": "stream",
     "text": [
      "/tmp/ipykernel_193/147790395.py:42: FutureWarning: The 'keep_date_col' keyword in pd.read_csv is deprecated and will be removed in a future version. Explicitly remove unwanted columns after parsing instead.\n",
      "  df = pd.read_csv(file, parse_dates=True, keep_date_col=True)\n",
      "/tmp/ipykernel_193/147790395.py:42: FutureWarning: The 'keep_date_col' keyword in pd.read_csv is deprecated and will be removed in a future version. Explicitly remove unwanted columns after parsing instead.\n",
      "  df = pd.read_csv(file, parse_dates=True, keep_date_col=True)\n"
     ]
    },
    {
     "name": "stdout",
     "output_type": "stream",
     "text": [
      "Memory usage of dataframe is 2253.43 MB\n",
      "Memory usage after optimization is: 281.68 MB\n",
      "Decreased by 87.5%\n"
     ]
    }
   ],
   "source": [
    "# Load Dataset\n",
    "# df = pd.read_csv(\"/kaggle/input/mydataset/data.csv\")\n",
    "# df = pd.read_csv(\"/kaggle/input/clean-data/clean_content_2.csv\")\n",
    "\n",
    "df = import_data(\"/kaggle/input/clean-data/clean_content_2.csv\")\n",
    "\n",
    "# Load Common Tags\n",
    "# df_common_tags_freq = pd.read_csv(\"/kaggle/input/mydataset/common_tags.csv\")\n",
    "df_common_tags_freq = import_data(\"/kaggle/input/mydataset/common_tags.csv\")\n",
    "y = import_data(\"/kaggle/input/labeldata/multilabel.csv\")"
   ]
  },
  {
   "cell_type": "code",
   "execution_count": 8,
   "metadata": {
    "execution": {
     "iopub.execute_input": "2024-12-01T05:28:14.206726Z",
     "iopub.status.busy": "2024-12-01T05:28:14.206339Z",
     "iopub.status.idle": "2024-12-01T05:28:14.221825Z",
     "shell.execute_reply": "2024-12-01T05:28:14.220931Z",
     "shell.execute_reply.started": "2024-12-01T05:28:14.206694Z"
    },
    "trusted": true
   },
   "outputs": [
    {
     "data": {
      "text/html": [
       "<div>\n",
       "<style scoped>\n",
       "    .dataframe tbody tr th:only-of-type {\n",
       "        vertical-align: middle;\n",
       "    }\n",
       "\n",
       "    .dataframe tbody tr th {\n",
       "        vertical-align: top;\n",
       "    }\n",
       "\n",
       "    .dataframe thead th {\n",
       "        text-align: right;\n",
       "    }\n",
       "</style>\n",
       "<table border=\"1\" class=\"dataframe\">\n",
       "  <thead>\n",
       "    <tr style=\"text-align: right;\">\n",
       "      <th></th>\n",
       "      <th>content</th>\n",
       "      <th>tags</th>\n",
       "      <th>clean_content</th>\n",
       "    </tr>\n",
       "  </thead>\n",
       "  <tbody>\n",
       "    <tr>\n",
       "      <th>0</th>\n",
       "      <td>Bước vào trận đấu, Barcelona nhanh chóng tràn ...</td>\n",
       "      <td>La Liga,Sevilla,Olimpic Lluis Companys,đè bẹp,...</td>\n",
       "      <td>trận đấu barcelona nhanh chóng tràn tấn công v...</td>\n",
       "    </tr>\n",
       "    <tr>\n",
       "      <th>1</th>\n",
       "      <td>Willian đi vào lịch sử bóng đá xứ samba. Với 1...</td>\n",
       "      <td>Estevao Willian,Neymar,giải VĐQG Brazil,Serie ...</td>\n",
       "      <td>willian đi lịch sử bóng đá xứ samba bàn thắng ...</td>\n",
       "    </tr>\n",
       "    <tr>\n",
       "      <th>2</th>\n",
       "      <td>Giải vô địch ná cao su thế giới năm 2024 đã di...</td>\n",
       "      <td>ná cao su,giải vô địch,giải Ba,Thượng Hải,đồng...</td>\n",
       "      <td>giải vô địch ná cao su thế giới diễn hai thượn...</td>\n",
       "    </tr>\n",
       "    <tr>\n",
       "      <th>3</th>\n",
       "      <td>Mục tiêu lớn Phó Thủ tướng Chính phủ Lê Thành ...</td>\n",
       "      <td>đăng cai,Đại hội Thể thao châu Á,ASIAD,thể dục...</td>\n",
       "      <td>mục tiêu phó thủ tướng chính phủ lê thành long...</td>\n",
       "    </tr>\n",
       "    <tr>\n",
       "      <th>4</th>\n",
       "      <td>Ngày 20-10, Giải bơi và lặn vô địch quốc gia n...</td>\n",
       "      <td>toàn đoàn,lặn,Vũ Đặng Nhật Nam,Nguyễn Lê Truyề...</td>\n",
       "      <td>giải bơi lặn vô địch quốc gia kết thúc đà nẵng...</td>\n",
       "    </tr>\n",
       "  </tbody>\n",
       "</table>\n",
       "</div>"
      ],
      "text/plain": [
       "                                             content  \\\n",
       "0  Bước vào trận đấu, Barcelona nhanh chóng tràn ...   \n",
       "1  Willian đi vào lịch sử bóng đá xứ samba. Với 1...   \n",
       "2  Giải vô địch ná cao su thế giới năm 2024 đã di...   \n",
       "3  Mục tiêu lớn Phó Thủ tướng Chính phủ Lê Thành ...   \n",
       "4  Ngày 20-10, Giải bơi và lặn vô địch quốc gia n...   \n",
       "\n",
       "                                                tags  \\\n",
       "0  La Liga,Sevilla,Olimpic Lluis Companys,đè bẹp,...   \n",
       "1  Estevao Willian,Neymar,giải VĐQG Brazil,Serie ...   \n",
       "2  ná cao su,giải vô địch,giải Ba,Thượng Hải,đồng...   \n",
       "3  đăng cai,Đại hội Thể thao châu Á,ASIAD,thể dục...   \n",
       "4  toàn đoàn,lặn,Vũ Đặng Nhật Nam,Nguyễn Lê Truyề...   \n",
       "\n",
       "                                       clean_content  \n",
       "0  trận đấu barcelona nhanh chóng tràn tấn công v...  \n",
       "1  willian đi lịch sử bóng đá xứ samba bàn thắng ...  \n",
       "2  giải vô địch ná cao su thế giới diễn hai thượn...  \n",
       "3  mục tiêu phó thủ tướng chính phủ lê thành long...  \n",
       "4  giải bơi lặn vô địch quốc gia kết thúc đà nẵng...  "
      ]
     },
     "execution_count": 8,
     "metadata": {},
     "output_type": "execute_result"
    }
   ],
   "source": [
    "df.head()"
   ]
  },
  {
   "cell_type": "code",
   "execution_count": 8,
   "metadata": {
    "execution": {
     "iopub.execute_input": "2024-12-01T00:35:43.873100Z",
     "iopub.status.busy": "2024-12-01T00:35:43.872706Z",
     "iopub.status.idle": "2024-12-01T00:35:43.899457Z",
     "shell.execute_reply": "2024-12-01T00:35:43.897738Z",
     "shell.execute_reply.started": "2024-12-01T00:35:43.873058Z"
    },
    "trusted": true
   },
   "outputs": [],
   "source": [
    "df_content = df[['content']]\n",
    "df_tags = df[['tags']]"
   ]
  },
  {
   "cell_type": "code",
   "execution_count": 9,
   "metadata": {
    "execution": {
     "iopub.execute_input": "2024-12-01T00:35:43.901634Z",
     "iopub.status.busy": "2024-12-01T00:35:43.901261Z",
     "iopub.status.idle": "2024-12-01T00:35:43.913191Z",
     "shell.execute_reply": "2024-12-01T00:35:43.911520Z",
     "shell.execute_reply.started": "2024-12-01T00:35:43.901598Z"
    },
    "trusted": true
   },
   "outputs": [
    {
     "data": {
      "text/html": [
       "<div>\n",
       "<style scoped>\n",
       "    .dataframe tbody tr th:only-of-type {\n",
       "        vertical-align: middle;\n",
       "    }\n",
       "\n",
       "    .dataframe tbody tr th {\n",
       "        vertical-align: top;\n",
       "    }\n",
       "\n",
       "    .dataframe thead th {\n",
       "        text-align: right;\n",
       "    }\n",
       "</style>\n",
       "<table border=\"1\" class=\"dataframe\">\n",
       "  <thead>\n",
       "    <tr style=\"text-align: right;\">\n",
       "      <th></th>\n",
       "      <th>content</th>\n",
       "    </tr>\n",
       "  </thead>\n",
       "  <tbody>\n",
       "    <tr>\n",
       "      <th>0</th>\n",
       "      <td>Bước vào trận đấu, Barcelona nhanh chóng tràn ...</td>\n",
       "    </tr>\n",
       "    <tr>\n",
       "      <th>1</th>\n",
       "      <td>Willian đi vào lịch sử bóng đá xứ samba. Với 1...</td>\n",
       "    </tr>\n",
       "    <tr>\n",
       "      <th>2</th>\n",
       "      <td>Giải vô địch ná cao su thế giới năm 2024 đã di...</td>\n",
       "    </tr>\n",
       "    <tr>\n",
       "      <th>3</th>\n",
       "      <td>Mục tiêu lớn Phó Thủ tướng Chính phủ Lê Thành ...</td>\n",
       "    </tr>\n",
       "    <tr>\n",
       "      <th>4</th>\n",
       "      <td>Ngày 20-10, Giải bơi và lặn vô địch quốc gia n...</td>\n",
       "    </tr>\n",
       "  </tbody>\n",
       "</table>\n",
       "</div>"
      ],
      "text/plain": [
       "                                             content\n",
       "0  Bước vào trận đấu, Barcelona nhanh chóng tràn ...\n",
       "1  Willian đi vào lịch sử bóng đá xứ samba. Với 1...\n",
       "2  Giải vô địch ná cao su thế giới năm 2024 đã di...\n",
       "3  Mục tiêu lớn Phó Thủ tướng Chính phủ Lê Thành ...\n",
       "4  Ngày 20-10, Giải bơi và lặn vô địch quốc gia n..."
      ]
     },
     "execution_count": 9,
     "metadata": {},
     "output_type": "execute_result"
    }
   ],
   "source": [
    "df_content.head()"
   ]
  },
  {
   "cell_type": "code",
   "execution_count": 10,
   "metadata": {
    "execution": {
     "iopub.execute_input": "2024-12-01T00:35:43.915716Z",
     "iopub.status.busy": "2024-12-01T00:35:43.915211Z",
     "iopub.status.idle": "2024-12-01T00:35:43.938657Z",
     "shell.execute_reply": "2024-12-01T00:35:43.937274Z",
     "shell.execute_reply.started": "2024-12-01T00:35:43.915664Z"
    },
    "trusted": true
   },
   "outputs": [
    {
     "data": {
      "text/html": [
       "<div>\n",
       "<style scoped>\n",
       "    .dataframe tbody tr th:only-of-type {\n",
       "        vertical-align: middle;\n",
       "    }\n",
       "\n",
       "    .dataframe tbody tr th {\n",
       "        vertical-align: top;\n",
       "    }\n",
       "\n",
       "    .dataframe thead th {\n",
       "        text-align: right;\n",
       "    }\n",
       "</style>\n",
       "<table border=\"1\" class=\"dataframe\">\n",
       "  <thead>\n",
       "    <tr style=\"text-align: right;\">\n",
       "      <th></th>\n",
       "      <th>tags</th>\n",
       "    </tr>\n",
       "  </thead>\n",
       "  <tbody>\n",
       "    <tr>\n",
       "      <th>0</th>\n",
       "      <td>La Liga,Sevilla,Olimpic Lluis Companys,đè bẹp,...</td>\n",
       "    </tr>\n",
       "    <tr>\n",
       "      <th>1</th>\n",
       "      <td>Estevao Willian,Neymar,giải VĐQG Brazil,Serie ...</td>\n",
       "    </tr>\n",
       "    <tr>\n",
       "      <th>2</th>\n",
       "      <td>ná cao su,giải vô địch,giải Ba,Thượng Hải,đồng...</td>\n",
       "    </tr>\n",
       "    <tr>\n",
       "      <th>3</th>\n",
       "      <td>đăng cai,Đại hội Thể thao châu Á,ASIAD,thể dục...</td>\n",
       "    </tr>\n",
       "    <tr>\n",
       "      <th>4</th>\n",
       "      <td>toàn đoàn,lặn,Vũ Đặng Nhật Nam,Nguyễn Lê Truyề...</td>\n",
       "    </tr>\n",
       "  </tbody>\n",
       "</table>\n",
       "</div>"
      ],
      "text/plain": [
       "                                                tags\n",
       "0  La Liga,Sevilla,Olimpic Lluis Companys,đè bẹp,...\n",
       "1  Estevao Willian,Neymar,giải VĐQG Brazil,Serie ...\n",
       "2  ná cao su,giải vô địch,giải Ba,Thượng Hải,đồng...\n",
       "3  đăng cai,Đại hội Thể thao châu Á,ASIAD,thể dục...\n",
       "4  toàn đoàn,lặn,Vũ Đặng Nhật Nam,Nguyễn Lê Truyề..."
      ]
     },
     "execution_count": 10,
     "metadata": {},
     "output_type": "execute_result"
    }
   ],
   "source": [
    "df_tags.head()"
   ]
  },
  {
   "cell_type": "code",
   "execution_count": 11,
   "metadata": {
    "execution": {
     "iopub.execute_input": "2024-12-01T00:35:43.940249Z",
     "iopub.status.busy": "2024-12-01T00:35:43.939814Z",
     "iopub.status.idle": "2024-12-01T00:35:43.955334Z",
     "shell.execute_reply": "2024-12-01T00:35:43.953937Z",
     "shell.execute_reply.started": "2024-12-01T00:35:43.940214Z"
    },
    "trusted": true
   },
   "outputs": [
    {
     "data": {
      "text/plain": [
       "content    object\n",
       "tags       object\n",
       "dtype: object"
      ]
     },
     "execution_count": 11,
     "metadata": {},
     "output_type": "execute_result"
    }
   ],
   "source": [
    "df.dtypes"
   ]
  },
  {
   "cell_type": "code",
   "execution_count": 12,
   "metadata": {
    "execution": {
     "iopub.execute_input": "2024-12-01T00:35:43.956992Z",
     "iopub.status.busy": "2024-12-01T00:35:43.956636Z",
     "iopub.status.idle": "2024-12-01T00:35:43.975660Z",
     "shell.execute_reply": "2024-12-01T00:35:43.974340Z",
     "shell.execute_reply.started": "2024-12-01T00:35:43.956946Z"
    },
    "trusted": true
   },
   "outputs": [
    {
     "data": {
      "text/plain": [
       "'Bước vào trận đấu, Barcelona nhanh chóng tràn lên tấn công nhưng vấp phải sự kháng cự quyết liệt của Sevilla. Bước ngoặt đến ở phút 22, Raphinha bị phạm lỗi trong vòng cấm và trọng tài đã cho Barcelona hưởng quả phạt đền. Trên chấm 11m, Lewandowski đã ghi bàn mở tỷ số cho Barcelona. Đến phút 28, Pedri đã có bàn nhân đôi cách biệt cho đội chủ nhà trước khi Lewandowski hoàn tất cú đúp cho riêng mình ở phút 39. Hiệp 1 khép lại với tỉ số 3-0 nghiêng về Barcelona. Sang hiệp 2, các chân sút của Barcelona liên tiếp bắn phá khung thành của Sevilla nhưng rất tiếc đều rơi vào thế việt vị. Tuy nhiên, chỉ trong vòng ít phút từ phút 82 đến 88, các khán giả có mặt trên sân Olimpic Lluis Companys đã được chứng kiến tới 3 bàn thắng. Cầu thủ vào sân thay người bên phía Barcelona là Torre lập cú đúp, xen giữa là bàn thắng danh dự của Idumbo bên phía Sevilla. Chung cuộc, Barca thắng Sevilal với tỷ số 5-1. Như vậy, đoàn quân của HLV Hansi Flick củng cố vị trí dẫn đầu trên bảng xếp hạng La Liga, duy trì khoảng cách 3 điểm với đại kình địch Real Madrid. '"
      ]
     },
     "execution_count": 12,
     "metadata": {},
     "output_type": "execute_result"
    }
   ],
   "source": [
    "df.loc[0].content"
   ]
  },
  {
   "cell_type": "code",
   "execution_count": 13,
   "metadata": {
    "execution": {
     "iopub.execute_input": "2024-12-01T00:35:43.978303Z",
     "iopub.status.busy": "2024-12-01T00:35:43.977354Z",
     "iopub.status.idle": "2024-12-01T00:35:43.995780Z",
     "shell.execute_reply": "2024-12-01T00:35:43.994221Z",
     "shell.execute_reply.started": "2024-12-01T00:35:43.978262Z"
    },
    "trusted": true
   },
   "outputs": [
    {
     "data": {
      "text/plain": [
       "'La Liga,Sevilla,Olimpic Lluis Companys,đè bẹp,Lewandowski,Barcelona,Raphinha,Pedri,Hansi Flick,tiếp đón,primera,củng cố vị trí,kháng cự,bắn phá,vào sân thay người,nhân đôi cách biệt,tỏa sáng,xen,sân nhà,chấm 11m'"
      ]
     },
     "execution_count": 13,
     "metadata": {},
     "output_type": "execute_result"
    }
   ],
   "source": [
    "df.loc[0].tags"
   ]
  },
  {
   "cell_type": "code",
   "execution_count": 8,
   "metadata": {
    "execution": {
     "iopub.execute_input": "2024-12-01T04:58:13.708614Z",
     "iopub.status.busy": "2024-12-01T04:58:13.708325Z",
     "iopub.status.idle": "2024-12-01T04:58:13.727523Z",
     "shell.execute_reply": "2024-12-01T04:58:13.726629Z",
     "shell.execute_reply.started": "2024-12-01T04:58:13.708588Z"
    },
    "trusted": true
   },
   "outputs": [
    {
     "data": {
      "text/html": [
       "<div>\n",
       "<style scoped>\n",
       "    .dataframe tbody tr th:only-of-type {\n",
       "        vertical-align: middle;\n",
       "    }\n",
       "\n",
       "    .dataframe tbody tr th {\n",
       "        vertical-align: top;\n",
       "    }\n",
       "\n",
       "    .dataframe thead th {\n",
       "        text-align: right;\n",
       "    }\n",
       "</style>\n",
       "<table border=\"1\" class=\"dataframe\">\n",
       "  <thead>\n",
       "    <tr style=\"text-align: right;\">\n",
       "      <th></th>\n",
       "      <th>Tag</th>\n",
       "      <th>Frequency</th>\n",
       "    </tr>\n",
       "  </thead>\n",
       "  <tbody>\n",
       "    <tr>\n",
       "      <th>0</th>\n",
       "      <td>năm</td>\n",
       "      <td>7588</td>\n",
       "    </tr>\n",
       "    <tr>\n",
       "      <th>1</th>\n",
       "      <td>Israel</td>\n",
       "      <td>2700</td>\n",
       "    </tr>\n",
       "    <tr>\n",
       "      <th>2</th>\n",
       "      <td>Liên bang Nga</td>\n",
       "      <td>2390</td>\n",
       "    </tr>\n",
       "    <tr>\n",
       "      <th>3</th>\n",
       "      <td>TP.HCM</td>\n",
       "      <td>2309</td>\n",
       "    </tr>\n",
       "    <tr>\n",
       "      <th>4</th>\n",
       "      <td>bão</td>\n",
       "      <td>2144</td>\n",
       "    </tr>\n",
       "    <tr>\n",
       "      <th>...</th>\n",
       "      <td>...</td>\n",
       "      <td>...</td>\n",
       "    </tr>\n",
       "    <tr>\n",
       "      <th>75529</th>\n",
       "      <td>Báo Quân khu</td>\n",
       "      <td>3</td>\n",
       "    </tr>\n",
       "    <tr>\n",
       "      <th>75530</th>\n",
       "      <td>Phổ Quang</td>\n",
       "      <td>3</td>\n",
       "    </tr>\n",
       "    <tr>\n",
       "      <th>75531</th>\n",
       "      <td>Nữ công tước</td>\n",
       "      <td>3</td>\n",
       "    </tr>\n",
       "    <tr>\n",
       "      <th>75532</th>\n",
       "      <td>Dương Văn Thắng</td>\n",
       "      <td>3</td>\n",
       "    </tr>\n",
       "    <tr>\n",
       "      <th>75533</th>\n",
       "      <td>Phạm Quốc Việt</td>\n",
       "      <td>3</td>\n",
       "    </tr>\n",
       "  </tbody>\n",
       "</table>\n",
       "<p>75534 rows × 2 columns</p>\n",
       "</div>"
      ],
      "text/plain": [
       "                   Tag  Frequency\n",
       "0                  năm       7588\n",
       "1               Israel       2700\n",
       "2        Liên bang Nga       2390\n",
       "3               TP.HCM       2309\n",
       "4                  bão       2144\n",
       "...                ...        ...\n",
       "75529     Báo Quân khu          3\n",
       "75530        Phổ Quang          3\n",
       "75531     Nữ công tước          3\n",
       "75532  Dương Văn Thắng          3\n",
       "75533   Phạm Quốc Việt          3\n",
       "\n",
       "[75534 rows x 2 columns]"
      ]
     },
     "execution_count": 8,
     "metadata": {},
     "output_type": "execute_result"
    }
   ],
   "source": [
    "df_common_tags_freq"
   ]
  },
  {
   "cell_type": "code",
   "execution_count": 9,
   "metadata": {
    "execution": {
     "iopub.execute_input": "2024-12-01T05:28:28.645523Z",
     "iopub.status.busy": "2024-12-01T05:28:28.644671Z",
     "iopub.status.idle": "2024-12-01T05:28:28.655538Z",
     "shell.execute_reply": "2024-12-01T05:28:28.654690Z",
     "shell.execute_reply.started": "2024-12-01T05:28:28.645490Z"
    },
    "trusted": true
   },
   "outputs": [
    {
     "data": {
      "text/html": [
       "<div>\n",
       "<style scoped>\n",
       "    .dataframe tbody tr th:only-of-type {\n",
       "        vertical-align: middle;\n",
       "    }\n",
       "\n",
       "    .dataframe tbody tr th {\n",
       "        vertical-align: top;\n",
       "    }\n",
       "\n",
       "    .dataframe thead th {\n",
       "        text-align: right;\n",
       "    }\n",
       "</style>\n",
       "<table border=\"1\" class=\"dataframe\">\n",
       "  <thead>\n",
       "    <tr style=\"text-align: right;\">\n",
       "      <th></th>\n",
       "      <th>Tag</th>\n",
       "    </tr>\n",
       "  </thead>\n",
       "  <tbody>\n",
       "    <tr>\n",
       "      <th>0</th>\n",
       "      <td>năm</td>\n",
       "    </tr>\n",
       "    <tr>\n",
       "      <th>1</th>\n",
       "      <td>Israel</td>\n",
       "    </tr>\n",
       "    <tr>\n",
       "      <th>2</th>\n",
       "      <td>Liên bang Nga</td>\n",
       "    </tr>\n",
       "    <tr>\n",
       "      <th>3</th>\n",
       "      <td>TP.HCM</td>\n",
       "    </tr>\n",
       "    <tr>\n",
       "      <th>4</th>\n",
       "      <td>bão</td>\n",
       "    </tr>\n",
       "    <tr>\n",
       "      <th>...</th>\n",
       "      <td>...</td>\n",
       "    </tr>\n",
       "    <tr>\n",
       "      <th>75529</th>\n",
       "      <td>Báo Quân khu</td>\n",
       "    </tr>\n",
       "    <tr>\n",
       "      <th>75530</th>\n",
       "      <td>Phổ Quang</td>\n",
       "    </tr>\n",
       "    <tr>\n",
       "      <th>75531</th>\n",
       "      <td>Nữ công tước</td>\n",
       "    </tr>\n",
       "    <tr>\n",
       "      <th>75532</th>\n",
       "      <td>Dương Văn Thắng</td>\n",
       "    </tr>\n",
       "    <tr>\n",
       "      <th>75533</th>\n",
       "      <td>Phạm Quốc Việt</td>\n",
       "    </tr>\n",
       "  </tbody>\n",
       "</table>\n",
       "<p>75534 rows × 1 columns</p>\n",
       "</div>"
      ],
      "text/plain": [
       "                   Tag\n",
       "0                  năm\n",
       "1               Israel\n",
       "2        Liên bang Nga\n",
       "3               TP.HCM\n",
       "4                  bão\n",
       "...                ...\n",
       "75529     Báo Quân khu\n",
       "75530        Phổ Quang\n",
       "75531     Nữ công tước\n",
       "75532  Dương Văn Thắng\n",
       "75533   Phạm Quốc Việt\n",
       "\n",
       "[75534 rows x 1 columns]"
      ]
     },
     "execution_count": 9,
     "metadata": {},
     "output_type": "execute_result"
    }
   ],
   "source": [
    "df_common_tags = df_common_tags_freq[['Tag']]\n",
    "df_common_tags"
   ]
  },
  {
   "cell_type": "code",
   "execution_count": 10,
   "metadata": {
    "execution": {
     "iopub.execute_input": "2024-12-01T05:28:41.856298Z",
     "iopub.status.busy": "2024-12-01T05:28:41.855425Z",
     "iopub.status.idle": "2024-12-01T05:28:41.865312Z",
     "shell.execute_reply": "2024-12-01T05:28:41.864300Z",
     "shell.execute_reply.started": "2024-12-01T05:28:41.856264Z"
    },
    "trusted": true
   },
   "outputs": [
    {
     "data": {
      "text/html": [
       "<div>\n",
       "<style scoped>\n",
       "    .dataframe tbody tr th:only-of-type {\n",
       "        vertical-align: middle;\n",
       "    }\n",
       "\n",
       "    .dataframe tbody tr th {\n",
       "        vertical-align: top;\n",
       "    }\n",
       "\n",
       "    .dataframe thead th {\n",
       "        text-align: right;\n",
       "    }\n",
       "</style>\n",
       "<table border=\"1\" class=\"dataframe\">\n",
       "  <thead>\n",
       "    <tr style=\"text-align: right;\">\n",
       "      <th></th>\n",
       "      <th>Tag</th>\n",
       "    </tr>\n",
       "  </thead>\n",
       "  <tbody>\n",
       "    <tr>\n",
       "      <th>0</th>\n",
       "      <td>năm</td>\n",
       "    </tr>\n",
       "    <tr>\n",
       "      <th>1</th>\n",
       "      <td>Israel</td>\n",
       "    </tr>\n",
       "    <tr>\n",
       "      <th>2</th>\n",
       "      <td>Liên bang Nga</td>\n",
       "    </tr>\n",
       "    <tr>\n",
       "      <th>3</th>\n",
       "      <td>TP.HCM</td>\n",
       "    </tr>\n",
       "    <tr>\n",
       "      <th>4</th>\n",
       "      <td>bão</td>\n",
       "    </tr>\n",
       "    <tr>\n",
       "      <th>...</th>\n",
       "      <td>...</td>\n",
       "    </tr>\n",
       "    <tr>\n",
       "      <th>4995</th>\n",
       "      <td>chuyến đi</td>\n",
       "    </tr>\n",
       "    <tr>\n",
       "      <th>4996</th>\n",
       "      <td>tuyệt chủng</td>\n",
       "    </tr>\n",
       "    <tr>\n",
       "      <th>4997</th>\n",
       "      <td>Amazon</td>\n",
       "    </tr>\n",
       "    <tr>\n",
       "      <th>4998</th>\n",
       "      <td>Noussair Mazraoui</td>\n",
       "    </tr>\n",
       "    <tr>\n",
       "      <th>4999</th>\n",
       "      <td>học hỏi</td>\n",
       "    </tr>\n",
       "  </tbody>\n",
       "</table>\n",
       "<p>5000 rows × 1 columns</p>\n",
       "</div>"
      ],
      "text/plain": [
       "                    Tag\n",
       "0                   năm\n",
       "1                Israel\n",
       "2         Liên bang Nga\n",
       "3                TP.HCM\n",
       "4                   bão\n",
       "...                 ...\n",
       "4995          chuyến đi\n",
       "4996        tuyệt chủng\n",
       "4997             Amazon\n",
       "4998  Noussair Mazraoui\n",
       "4999            học hỏi\n",
       "\n",
       "[5000 rows x 1 columns]"
      ]
     },
     "execution_count": 10,
     "metadata": {},
     "output_type": "execute_result"
    }
   ],
   "source": [
    "# Select 5000 common label\n",
    "df_5000_tags = df_common_tags[0:5000]\n",
    "df_5000_tags"
   ]
  },
  {
   "cell_type": "code",
   "execution_count": 11,
   "metadata": {
    "execution": {
     "iopub.execute_input": "2024-12-01T05:28:45.484628Z",
     "iopub.status.busy": "2024-12-01T05:28:45.483866Z",
     "iopub.status.idle": "2024-12-01T05:28:45.489264Z",
     "shell.execute_reply": "2024-12-01T05:28:45.488280Z",
     "shell.execute_reply.started": "2024-12-01T05:28:45.484592Z"
    },
    "trusted": true
   },
   "outputs": [],
   "source": [
    "# Dataframe to list\n",
    "list_5000_tags = df_5000_tags['Tag'].tolist()\n",
    "# print(list_5000_tags[:10])"
   ]
  },
  {
   "cell_type": "code",
   "execution_count": 18,
   "metadata": {
    "execution": {
     "iopub.execute_input": "2024-12-01T00:35:44.104544Z",
     "iopub.status.busy": "2024-12-01T00:35:44.104132Z",
     "iopub.status.idle": "2024-12-01T00:35:44.119255Z",
     "shell.execute_reply": "2024-12-01T00:35:44.117774Z",
     "shell.execute_reply.started": "2024-12-01T00:35:44.104504Z"
    },
    "trusted": true
   },
   "outputs": [],
   "source": [
    "df_1 = df"
   ]
  },
  {
   "cell_type": "markdown",
   "metadata": {},
   "source": [
    "# Text Preprocessing"
   ]
  },
  {
   "cell_type": "code",
   "execution_count": null,
   "metadata": {
    "trusted": true
   },
   "outputs": [],
   "source": [
    "!pip install underthesea vncorenlp neattext"
   ]
  },
  {
   "cell_type": "code",
   "execution_count": 20,
   "metadata": {
    "execution": {
     "iopub.execute_input": "2024-12-01T00:36:02.505790Z",
     "iopub.status.busy": "2024-12-01T00:36:02.505179Z",
     "iopub.status.idle": "2024-12-01T00:36:10.867176Z",
     "shell.execute_reply": "2024-12-01T00:36:10.864723Z",
     "shell.execute_reply.started": "2024-12-01T00:36:02.505719Z"
    },
    "trusted": true
   },
   "outputs": [],
   "source": [
    "import underthesea\n",
    "from underthesea import word_tokenize, text_normalize, pos_tag\n",
    "import neattext as nt\n",
    "from tqdm import tqdm\n",
    "import regex as re \n",
    "tqdm.pandas()"
   ]
  },
  {
   "cell_type": "code",
   "execution_count": 21,
   "metadata": {
    "execution": {
     "iopub.execute_input": "2024-12-01T00:36:10.871218Z",
     "iopub.status.busy": "2024-12-01T00:36:10.870194Z",
     "iopub.status.idle": "2024-12-01T02:18:33.969086Z",
     "shell.execute_reply": "2024-12-01T02:18:33.967830Z",
     "shell.execute_reply.started": "2024-12-01T00:36:10.871147Z"
    },
    "trusted": true
   },
   "outputs": [
    {
     "name": "stdout",
     "output_type": "stream",
     "text": [
      "                                                 content  \\\n",
      "0      Bước vào trận đấu, Barcelona nhanh chóng tràn ...   \n",
      "1      Willian đi vào lịch sử bóng đá xứ samba. Với 1...   \n",
      "2      Giải vô địch ná cao su thế giới năm 2024 đã di...   \n",
      "3      Mục tiêu lớn Phó Thủ tướng Chính phủ Lê Thành ...   \n",
      "4      Ngày 20-10, Giải bơi và lặn vô địch quốc gia n...   \n",
      "...                                                  ...   \n",
      "98449  Tạo động lực phát triển nhanh và bền vững của ...   \n",
      "98450  Theo số liệu của Tổng cục Hải quan, trong 9 th...   \n",
      "98451  Mong có chiến lược ứng phó hiệu quả với thiên ...   \n",
      "98452  Nhà chức trách xác định, Hoàng Văn Thảo có hàn...   \n",
      "98453  Trong 6 tháng đầu năm 2024, Sở Y tế thành phố ...   \n",
      "\n",
      "                                           clean_content  \n",
      "0      trận đấu , barcelona nhanh chóng tràn tấn công...  \n",
      "1      willian đi lịch sử bóng đá xứ samba . bàn thắn...  \n",
      "2      giải vô địch ná cao su thế giới diễn hai , / t...  \n",
      "3      mục tiêu phó thủ tướng chính phủ lê thành long...  \n",
      "4      - , giải bơi lặn vô địch quốc gia kết thúc đà ...  \n",
      "...                                                  ...  \n",
      "98449  động lực phát triển bền vững kinh tế nhiệm vụ ...  \n",
      "98450  số liệu tổng cục hải quan , đầu , xuất khẩu ca...  \n",
      "98451  mong chiến lược ứng phó hiệu quả thiên tai - k...  \n",
      "98452  nhà chức trách xác định , hoàng văn thảo hành ...  \n",
      "98453  đầu , sở y tế thành phố đà nẵng triển khai gói...  \n",
      "\n",
      "[98454 rows x 2 columns]\n"
     ]
    }
   ],
   "source": [
    "def load_stopwords(file_path):\n",
    "    with open(file_path, 'r', encoding='utf-8') as file:\n",
    "        stopwords = file.readlines()\n",
    "    # Clean stopwords (remove newline and extra spaces)\n",
    "    stopwords = set([word.strip() for word in stopwords])\n",
    "    return stopwords\n",
    "\n",
    "stopwords = load_stopwords('/kaggle/input/mydataset/vietnamese-stopwords.txt')\n",
    "\n",
    "\n",
    "def remove_stopwords(tokens):\n",
    "    return [word for word in tokens if word not in stopwords]\n",
    "\n",
    "\n",
    "def preprocess_text_vietnamese_with_stopwords(text):\n",
    "    text_cleaned = nt.normalize(text)\n",
    "    \n",
    "    tokens = underthesea.word_tokenize(text_cleaned)\n",
    "    \n",
    "    tokens_without_stopwords = remove_stopwords(tokens)\n",
    "    \n",
    "    text_processed = ' '.join(tokens_without_stopwords)\n",
    "    \n",
    "    return text_processed\n",
    "\n",
    "df['clean_content'] = df['content'].apply(preprocess_text_vietnamese_with_stopwords)\n",
    "\n",
    "print(df[['content', 'clean_content']])"
   ]
  },
  {
   "cell_type": "code",
   "execution_count": 22,
   "metadata": {
    "execution": {
     "iopub.execute_input": "2024-12-01T02:18:33.971177Z",
     "iopub.status.busy": "2024-12-01T02:18:33.970669Z",
     "iopub.status.idle": "2024-12-01T02:18:51.276536Z",
     "shell.execute_reply": "2024-12-01T02:18:51.275393Z",
     "shell.execute_reply.started": "2024-12-01T02:18:33.971126Z"
    },
    "trusted": true
   },
   "outputs": [],
   "source": [
    "df.to_csv('clean_content_1.csv', index=False)"
   ]
  },
  {
   "cell_type": "markdown",
   "metadata": {},
   "source": [
    "### Sử dụng tiếng việt từ bộ unicode: https://vietunicode.sourceforge.net/charset/vietalphabet.html"
   ]
  },
  {
   "cell_type": "code",
   "execution_count": 23,
   "metadata": {
    "execution": {
     "iopub.execute_input": "2024-12-01T02:18:51.278518Z",
     "iopub.status.busy": "2024-12-01T02:18:51.278086Z",
     "iopub.status.idle": "2024-12-01T02:18:51.285579Z",
     "shell.execute_reply": "2024-12-01T02:18:51.284350Z",
     "shell.execute_reply.started": "2024-12-01T02:18:51.278472Z"
    },
    "trusted": true
   },
   "outputs": [],
   "source": [
    "def clean_special_characters(text):        \n",
    "    text = re.sub(r'[^a-zA-ZaAàÀảẢãÃáÁạẠăĂằẰẳẲẵẴắẮặẶâÂầẦẩẨẫẪấẤậẬbBcCdDđĐeEèÈẻẺẽẼéÉẹẸêÊềỀểỂễỄếẾệỆfFgGhHiIìÌỉỈĩĨíÍịỊjJkKlLmMnNoOòÒỏỎõÕóÓọỌôÔồỒổỔỗỖốỐộỘơƠờỜởỞỡỠớỚợỢpPqQrRsStTuUùÙủỦũŨúÚụỤưƯừỪửỬữỮứỨựỰvVwWxXyYỳỲỷỶỹỸýÝỵỴzZ0-9\\s]', '', text)\n",
    "    text = re.sub(r'\\s+', ' ', text).strip()\n",
    "    text = re.sub(r'http[s]?://\\S+', '', text)\n",
    "    \n",
    "    return text"
   ]
  },
  {
   "cell_type": "code",
   "execution_count": 24,
   "metadata": {
    "execution": {
     "iopub.execute_input": "2024-12-01T02:18:51.287476Z",
     "iopub.status.busy": "2024-12-01T02:18:51.286998Z",
     "iopub.status.idle": "2024-12-01T02:19:29.918704Z",
     "shell.execute_reply": "2024-12-01T02:19:29.917503Z",
     "shell.execute_reply.started": "2024-12-01T02:18:51.287436Z"
    },
    "trusted": true
   },
   "outputs": [],
   "source": [
    "df['clean_content'] = df['clean_content'].apply(clean_special_characters)"
   ]
  },
  {
   "cell_type": "code",
   "execution_count": 46,
   "metadata": {
    "execution": {
     "iopub.execute_input": "2024-12-01T02:36:39.581767Z",
     "iopub.status.busy": "2024-12-01T02:36:39.581287Z",
     "iopub.status.idle": "2024-12-01T02:36:39.589527Z",
     "shell.execute_reply": "2024-12-01T02:36:39.588280Z",
     "shell.execute_reply.started": "2024-12-01T02:36:39.581726Z"
    },
    "trusted": true
   },
   "outputs": [
    {
     "data": {
      "text/plain": [
       "'mục tiêu phó thủ tướng chính phủ lê thành long ký quyết định qđttg phê duyệt chiến lược phát triển thể dục thể thao việt nam tầm chiến lược mục tiêu xây dựng thể dục thể thao phát triển bền vững chuyên nghiệp người dân tiếp cận thụ hưởng dịch vụ thể dục thể thao nâng sức khỏe thể lực chất lượng cuộc sống nâng thành tích thể thao việt nam tiệm cận tiến ngang tầm thể thao phát triển châu á mở rộng thị trường thể thao huy động hiệu quả nguồn lực phát triển sự nghiệp thể dục thể thao chiến lược mục tiêu thể thao thành tích thường xuyên duy trì top kỳ sea games top kỳ asiad top kỳ olympic bóng đá nam top châu á giành quyền tham dự world cup bóng đá nữ top châu á giành quyền tham dự kỳ world cup mạng lưới cơ sở thể thao quốc gia hiện đại đăng cai asiad tỉnh tp trực thuộc t công trình thể thao cơ bản tiêu chuẩn tổ chức thi đấu quốc tế hành chính huyện công trình thể thao cơ bản đáp ứng tiêu chí tiêu chuẩn quy định lộ trình rõ ràng lịch sử việt nam hai đăng cai tổ chức đại hội thể thao đông nam á sea games hà nội việt nam đăng cai đại hội thể thao châu á môn thi đấu hà nội đăng cai đại hội thể thao bãi biển châu á đà nẵng quy mô hẹp tính chất chuyên môn quá khứ việt nam xây dựng kế hoạch hội đồng olympic châu á oca đồng ý đăng cai asiad hà nội đáp ứng chính phủ rút đăng cai đại hội indonesia quốc gia lựa chọn đăng cai asiad diễn nguyên nhân rút việt nam đối mặt thách thức kinh tế kinh nghiệm tổ chức sự kiện thể thao asiad đề án đăng cai asiad việt nam chi phí tổ chức triệu usd kỳ asiad asiad busan tỷ usd doha tỷ usd quảng châu tỷ usd incheon tỷ usd việt nam sẵn công trình sân vận động mỹ đình cung thể thao trung tâm huấn luyện thể thao quốc gia hà nội thời tổ chức sea games asian indoor games chiếm nâng cấp triển khai xây công trình sẵn việt nam xây công trình sân đua xe đạp lòng chảo làng vận động viên nhà thi đấu đa năng trường bắn súng trường bắn đĩa bay sân tập luyện đua ngựa cụm sân tennis đăng cai tổ chức asiad sự kiện châu lục sea games nội dung thi đấu cạnh tranh quyết liệt chuyên môn buộc chủ đáp ứng đáp ứng tổ chức đại hội thể thao việt nam khả thi cơ sở vật chất hạn chế yếu tố chuyên môn thành tích asiad hàng châu trung quốc thể thao việt nam kém châu lục tụt khu vực đông nam á sự kiện thể dục thể thao tổ chức việt nam thế giới thu hầu như bù đắp chi phí hiệu quả công trình tổ chức chuyên gia việt nam phấn đấu đăng cai tổ chức asiad giai đoạn chính đáng lộ trình rủi ro bài học nhãn tiền khả thi liên kết quốc gia khu vực đông nam á đăng cai tổ chức indonesia quốc gia kinh nghiệm đăng cai asiad diễn'"
      ]
     },
     "execution_count": 46,
     "metadata": {},
     "output_type": "execute_result"
    }
   ],
   "source": [
    "df['clean_content'].iloc[3]"
   ]
  },
  {
   "cell_type": "code",
   "execution_count": 26,
   "metadata": {
    "execution": {
     "iopub.execute_input": "2024-12-01T02:19:29.930694Z",
     "iopub.status.busy": "2024-12-01T02:19:29.930246Z",
     "iopub.status.idle": "2024-12-01T02:19:29.942867Z",
     "shell.execute_reply": "2024-12-01T02:19:29.941790Z",
     "shell.execute_reply.started": "2024-12-01T02:19:29.930646Z"
    },
    "trusted": true
   },
   "outputs": [
    {
     "data": {
      "text/plain": [
       "'đăng cai,Đại hội Thể thao châu Á,ASIAD,thể dục,Quyết định số 1189/QĐ-TTg,phấn đấu,OCA,Đại hội Thể thao Đông Nam Á,chiến lược phát triển,Asian Indoor Games 2009,Incheon 2014,Hội đồng Olympic châu Á,ASIAD 18,Cung thể thao dưới nước,thể thao,Đại hội thể thao trong nhà châu Á,tầm nhìn,SEA Games,Đại hội Thể thao Đông Nam Á 2003,Lê Thành Long'"
      ]
     },
     "execution_count": 26,
     "metadata": {},
     "output_type": "execute_result"
    }
   ],
   "source": [
    "df['tags'].iloc[3]   "
   ]
  },
  {
   "cell_type": "code",
   "execution_count": 28,
   "metadata": {
    "execution": {
     "iopub.execute_input": "2024-12-01T02:19:29.963400Z",
     "iopub.status.busy": "2024-12-01T02:19:29.962926Z",
     "iopub.status.idle": "2024-12-01T02:19:47.362043Z",
     "shell.execute_reply": "2024-12-01T02:19:47.361150Z",
     "shell.execute_reply.started": "2024-12-01T02:19:29.963349Z"
    },
    "trusted": true
   },
   "outputs": [],
   "source": [
    "df.to_csv('clean_content_2.csv', index=False)  "
   ]
  },
  {
   "cell_type": "markdown",
   "metadata": {},
   "source": []
  },
  {
   "cell_type": "markdown",
   "metadata": {},
   "source": [
    "# Xây dựng Đặc trưng\n",
    "## Biểu diễn văn bản thành véc-tơ\n",
    "* Sử dụng các kỹ thuật như TF-IDF\n",
    "* Sử dụng các mô hình nhúng từ (Words Embeddings)"
   ]
  },
  {
   "cell_type": "code",
   "execution_count": 8,
   "metadata": {
    "execution": {
     "iopub.execute_input": "2024-12-01T05:51:21.305123Z",
     "iopub.status.busy": "2024-12-01T05:51:21.304723Z",
     "iopub.status.idle": "2024-12-01T05:51:21.584981Z",
     "shell.execute_reply": "2024-12-01T05:51:21.583972Z",
     "shell.execute_reply.started": "2024-12-01T05:51:21.305062Z"
    },
    "trusted": true
   },
   "outputs": [
    {
     "data": {
      "text/plain": [
       "0        trận đấu barcelona nhanh chóng tràn tấn công v...\n",
       "1        willian đi lịch sử bóng đá xứ samba bàn thắng ...\n",
       "2        giải vô địch ná cao su thế giới diễn hai thượn...\n",
       "3        mục tiêu phó thủ tướng chính phủ lê thành long...\n",
       "4        giải bơi lặn vô địch quốc gia kết thúc đà nẵng...\n",
       "                               ...                        \n",
       "98449    động lực phát triển bền vững kinh tế nhiệm vụ ...\n",
       "98450    số liệu tổng cục hải quan đầu xuất khẩu cao su...\n",
       "98451    mong chiến lược ứng phó hiệu quả thiên tai kỳ ...\n",
       "98452    nhà chức trách xác định hoàng văn thảo hành vi...\n",
       "98453    đầu sở y tế thành phố đà nẵng triển khai gói t...\n",
       "Name: clean_content, Length: 98454, dtype: category\n",
       "Categories (98238, object): ['a h sinh trú thôn tê pen xã văn lem huyện đăk..., 'a hiêng sn trú thôn tê pan xã văn lem huyện đ..., 'a i sgtt sạch da đầu dầu gội tóc yếu hư hỏng ..., 'a khoản điều luật đất đai hợp đồng chuyển như..., ..., 'ứng viên vô địch đá muộn tâm đối đầu hà nội f..., 'ứng viên đảng cộng hòa donald trump xung đột ..., 'ứng viên đảng dân chủ kamala harris cú hích đ..., 'ứng viên đảng dân chủ phó tổng thống kamala h...]"
      ]
     },
     "execution_count": 8,
     "metadata": {},
     "output_type": "execute_result"
    }
   ],
   "source": [
    "corpus = df['clean_content']\n",
    "corpus"
   ]
  },
  {
   "cell_type": "code",
   "execution_count": 9,
   "metadata": {
    "execution": {
     "iopub.execute_input": "2024-12-01T05:51:21.587551Z",
     "iopub.status.busy": "2024-12-01T05:51:21.587243Z",
     "iopub.status.idle": "2024-12-01T05:51:21.591847Z",
     "shell.execute_reply": "2024-12-01T05:51:21.590950Z",
     "shell.execute_reply.started": "2024-12-01T05:51:21.587522Z"
    },
    "trusted": true
   },
   "outputs": [],
   "source": [
    "tfidf = TfidfVectorizer(max_features=3000)"
   ]
  },
  {
   "cell_type": "code",
   "execution_count": 10,
   "metadata": {
    "execution": {
     "iopub.execute_input": "2024-12-01T05:51:21.593151Z",
     "iopub.status.busy": "2024-12-01T05:51:21.592867Z",
     "iopub.status.idle": "2024-12-01T05:51:21.609261Z",
     "shell.execute_reply": "2024-12-01T05:51:21.608392Z",
     "shell.execute_reply.started": "2024-12-01T05:51:21.593094Z"
    },
    "trusted": true
   },
   "outputs": [
    {
     "data": {
      "text/html": [
       "<style>#sk-container-id-1 {color: black;background-color: white;}#sk-container-id-1 pre{padding: 0;}#sk-container-id-1 div.sk-toggleable {background-color: white;}#sk-container-id-1 label.sk-toggleable__label {cursor: pointer;display: block;width: 100%;margin-bottom: 0;padding: 0.3em;box-sizing: border-box;text-align: center;}#sk-container-id-1 label.sk-toggleable__label-arrow:before {content: \"▸\";float: left;margin-right: 0.25em;color: #696969;}#sk-container-id-1 label.sk-toggleable__label-arrow:hover:before {color: black;}#sk-container-id-1 div.sk-estimator:hover label.sk-toggleable__label-arrow:before {color: black;}#sk-container-id-1 div.sk-toggleable__content {max-height: 0;max-width: 0;overflow: hidden;text-align: left;background-color: #f0f8ff;}#sk-container-id-1 div.sk-toggleable__content pre {margin: 0.2em;color: black;border-radius: 0.25em;background-color: #f0f8ff;}#sk-container-id-1 input.sk-toggleable__control:checked~div.sk-toggleable__content {max-height: 200px;max-width: 100%;overflow: auto;}#sk-container-id-1 input.sk-toggleable__control:checked~label.sk-toggleable__label-arrow:before {content: \"▾\";}#sk-container-id-1 div.sk-estimator input.sk-toggleable__control:checked~label.sk-toggleable__label {background-color: #d4ebff;}#sk-container-id-1 div.sk-label input.sk-toggleable__control:checked~label.sk-toggleable__label {background-color: #d4ebff;}#sk-container-id-1 input.sk-hidden--visually {border: 0;clip: rect(1px 1px 1px 1px);clip: rect(1px, 1px, 1px, 1px);height: 1px;margin: -1px;overflow: hidden;padding: 0;position: absolute;width: 1px;}#sk-container-id-1 div.sk-estimator {font-family: monospace;background-color: #f0f8ff;border: 1px dotted black;border-radius: 0.25em;box-sizing: border-box;margin-bottom: 0.5em;}#sk-container-id-1 div.sk-estimator:hover {background-color: #d4ebff;}#sk-container-id-1 div.sk-parallel-item::after {content: \"\";width: 100%;border-bottom: 1px solid gray;flex-grow: 1;}#sk-container-id-1 div.sk-label:hover label.sk-toggleable__label {background-color: #d4ebff;}#sk-container-id-1 div.sk-serial::before {content: \"\";position: absolute;border-left: 1px solid gray;box-sizing: border-box;top: 0;bottom: 0;left: 50%;z-index: 0;}#sk-container-id-1 div.sk-serial {display: flex;flex-direction: column;align-items: center;background-color: white;padding-right: 0.2em;padding-left: 0.2em;position: relative;}#sk-container-id-1 div.sk-item {position: relative;z-index: 1;}#sk-container-id-1 div.sk-parallel {display: flex;align-items: stretch;justify-content: center;background-color: white;position: relative;}#sk-container-id-1 div.sk-item::before, #sk-container-id-1 div.sk-parallel-item::before {content: \"\";position: absolute;border-left: 1px solid gray;box-sizing: border-box;top: 0;bottom: 0;left: 50%;z-index: -1;}#sk-container-id-1 div.sk-parallel-item {display: flex;flex-direction: column;z-index: 1;position: relative;background-color: white;}#sk-container-id-1 div.sk-parallel-item:first-child::after {align-self: flex-end;width: 50%;}#sk-container-id-1 div.sk-parallel-item:last-child::after {align-self: flex-start;width: 50%;}#sk-container-id-1 div.sk-parallel-item:only-child::after {width: 0;}#sk-container-id-1 div.sk-dashed-wrapped {border: 1px dashed gray;margin: 0 0.4em 0.5em 0.4em;box-sizing: border-box;padding-bottom: 0.4em;background-color: white;}#sk-container-id-1 div.sk-label label {font-family: monospace;font-weight: bold;display: inline-block;line-height: 1.2em;}#sk-container-id-1 div.sk-label-container {text-align: center;}#sk-container-id-1 div.sk-container {/* jupyter's `normalize.less` sets `[hidden] { display: none; }` but bootstrap.min.css set `[hidden] { display: none !important; }` so we also need the `!important` here to be able to override the default hidden behavior on the sphinx rendered scikit-learn.org. See: https://github.com/scikit-learn/scikit-learn/issues/21755 */display: inline-block !important;position: relative;}#sk-container-id-1 div.sk-text-repr-fallback {display: none;}</style><div id=\"sk-container-id-1\" class=\"sk-top-container\"><div class=\"sk-text-repr-fallback\"><pre>TfidfVectorizer(max_features=3000)</pre><b>In a Jupyter environment, please rerun this cell to show the HTML representation or trust the notebook. <br />On GitHub, the HTML representation is unable to render, please try loading this page with nbviewer.org.</b></div><div class=\"sk-container\" hidden><div class=\"sk-item\"><div class=\"sk-estimator sk-toggleable\"><input class=\"sk-toggleable__control sk-hidden--visually\" id=\"sk-estimator-id-1\" type=\"checkbox\" checked><label for=\"sk-estimator-id-1\" class=\"sk-toggleable__label sk-toggleable__label-arrow\">TfidfVectorizer</label><div class=\"sk-toggleable__content\"><pre>TfidfVectorizer(max_features=3000)</pre></div></div></div></div></div>"
      ],
      "text/plain": [
       "TfidfVectorizer(max_features=3000)"
      ]
     },
     "execution_count": 10,
     "metadata": {},
     "output_type": "execute_result"
    }
   ],
   "source": [
    "tfidf"
   ]
  },
  {
   "cell_type": "code",
   "execution_count": 11,
   "metadata": {
    "execution": {
     "iopub.execute_input": "2024-12-01T05:51:21.610654Z",
     "iopub.status.busy": "2024-12-01T05:51:21.610325Z",
     "iopub.status.idle": "2024-12-01T05:51:49.693328Z",
     "shell.execute_reply": "2024-12-01T05:51:49.692476Z",
     "shell.execute_reply.started": "2024-12-01T05:51:21.610609Z"
    },
    "trusted": true
   },
   "outputs": [],
   "source": [
    "# Build Features\n",
    "Xfeatures = tfidf.fit_transform(corpus).toarray()"
   ]
  },
  {
   "cell_type": "code",
   "execution_count": 12,
   "metadata": {
    "execution": {
     "iopub.execute_input": "2024-12-01T05:51:49.694749Z",
     "iopub.status.busy": "2024-12-01T05:51:49.694448Z",
     "iopub.status.idle": "2024-12-01T05:51:49.701152Z",
     "shell.execute_reply": "2024-12-01T05:51:49.700287Z",
     "shell.execute_reply.started": "2024-12-01T05:51:49.694722Z"
    },
    "trusted": true
   },
   "outputs": [
    {
     "data": {
      "text/plain": [
       "array([[0.        , 0.        , 0.        , ..., 0.        , 0.        ,\n",
       "        0.        ],\n",
       "       [0.        , 0.        , 0.        , ..., 0.        , 0.        ,\n",
       "        0.        ],\n",
       "       [0.        , 0.        , 0.        , ..., 0.        , 0.        ,\n",
       "        0.        ],\n",
       "       ...,\n",
       "       [0.        , 0.        , 0.        , ..., 0.        , 0.        ,\n",
       "        0.02377517],\n",
       "       [0.        , 0.        , 0.        , ..., 0.        , 0.        ,\n",
       "        0.        ],\n",
       "       [0.        , 0.        , 0.        , ..., 0.        , 0.        ,\n",
       "        0.0460459 ]])"
      ]
     },
     "execution_count": 12,
     "metadata": {},
     "output_type": "execute_result"
    }
   ],
   "source": [
    "Xfeatures"
   ]
  },
  {
   "cell_type": "code",
   "execution_count": null,
   "metadata": {
    "trusted": true
   },
   "outputs": [],
   "source": [
    "# for tag in list_5000_tags:\n",
    "#     tag = str(tag)\n",
    "#     df[tag] = df['tags'].apply(lambda x: 1 if tag in x else 0)\n",
    "\n",
    "# df"
   ]
  },
  {
   "cell_type": "code",
   "execution_count": 14,
   "metadata": {
    "execution": {
     "iopub.execute_input": "2024-12-01T05:45:29.670573Z",
     "iopub.status.busy": "2024-12-01T05:45:29.670300Z",
     "iopub.status.idle": "2024-12-01T05:45:29.685730Z",
     "shell.execute_reply": "2024-12-01T05:45:29.684833Z",
     "shell.execute_reply.started": "2024-12-01T05:45:29.670547Z"
    },
    "trusted": true
   },
   "outputs": [
    {
     "data": {
      "text/plain": [
       "content          category\n",
       "tags             category\n",
       "clean_content    category\n",
       "dtype: object"
      ]
     },
     "execution_count": 14,
     "metadata": {},
     "output_type": "execute_result"
    }
   ],
   "source": [
    "df.dtypes"
   ]
  },
  {
   "cell_type": "code",
   "execution_count": null,
   "metadata": {
    "execution": {
     "iopub.execute_input": "2024-12-01T05:40:08.101387Z",
     "iopub.status.busy": "2024-12-01T05:40:08.100588Z"
    },
    "trusted": true
   },
   "outputs": [],
   "source": [
    "# columns_to_select = df.columns[3:3003]  # Lấy các cột từ chỉ mục 2 trở đi\n",
    "# y = df[columns_to_select]"
   ]
  },
  {
   "cell_type": "code",
   "execution_count": 13,
   "metadata": {
    "execution": {
     "iopub.execute_input": "2024-12-01T05:51:49.702916Z",
     "iopub.status.busy": "2024-12-01T05:51:49.702297Z",
     "iopub.status.idle": "2024-12-01T05:51:49.745752Z",
     "shell.execute_reply": "2024-12-01T05:51:49.744872Z",
     "shell.execute_reply.started": "2024-12-01T05:51:49.702876Z"
    },
    "trusted": true
   },
   "outputs": [
    {
     "data": {
      "text/html": [
       "<div>\n",
       "<style scoped>\n",
       "    .dataframe tbody tr th:only-of-type {\n",
       "        vertical-align: middle;\n",
       "    }\n",
       "\n",
       "    .dataframe tbody tr th {\n",
       "        vertical-align: top;\n",
       "    }\n",
       "\n",
       "    .dataframe thead th {\n",
       "        text-align: right;\n",
       "    }\n",
       "</style>\n",
       "<table border=\"1\" class=\"dataframe\">\n",
       "  <thead>\n",
       "    <tr style=\"text-align: right;\">\n",
       "      <th></th>\n",
       "      <th>năm</th>\n",
       "      <th>Israel</th>\n",
       "      <th>Liên bang Nga</th>\n",
       "      <th>TP.HCM</th>\n",
       "      <th>bão</th>\n",
       "      <th>điểm chuẩn</th>\n",
       "      <th>xét tuyển</th>\n",
       "      <th>học sinh</th>\n",
       "      <th>giá vàng</th>\n",
       "      <th>Ukraine</th>\n",
       "      <th>...</th>\n",
       "      <th>hình thức</th>\n",
       "      <th>Vietnam</th>\n",
       "      <th>thành viên</th>\n",
       "      <th>Đông Nam Bộ</th>\n",
       "      <th>chuyện tình</th>\n",
       "      <th>Daniil Medvedev</th>\n",
       "      <th>tiền điện</th>\n",
       "      <th>vượt khó</th>\n",
       "      <th>chia cắt</th>\n",
       "      <th>nhà trọ</th>\n",
       "    </tr>\n",
       "  </thead>\n",
       "  <tbody>\n",
       "    <tr>\n",
       "      <th>0</th>\n",
       "      <td>0</td>\n",
       "      <td>0</td>\n",
       "      <td>0</td>\n",
       "      <td>0</td>\n",
       "      <td>0</td>\n",
       "      <td>0</td>\n",
       "      <td>0</td>\n",
       "      <td>0</td>\n",
       "      <td>0</td>\n",
       "      <td>0</td>\n",
       "      <td>...</td>\n",
       "      <td>0</td>\n",
       "      <td>0</td>\n",
       "      <td>0</td>\n",
       "      <td>0</td>\n",
       "      <td>0</td>\n",
       "      <td>0</td>\n",
       "      <td>0</td>\n",
       "      <td>0</td>\n",
       "      <td>0</td>\n",
       "      <td>0</td>\n",
       "    </tr>\n",
       "    <tr>\n",
       "      <th>1</th>\n",
       "      <td>0</td>\n",
       "      <td>0</td>\n",
       "      <td>0</td>\n",
       "      <td>0</td>\n",
       "      <td>0</td>\n",
       "      <td>0</td>\n",
       "      <td>0</td>\n",
       "      <td>0</td>\n",
       "      <td>0</td>\n",
       "      <td>0</td>\n",
       "      <td>...</td>\n",
       "      <td>0</td>\n",
       "      <td>0</td>\n",
       "      <td>0</td>\n",
       "      <td>0</td>\n",
       "      <td>0</td>\n",
       "      <td>0</td>\n",
       "      <td>0</td>\n",
       "      <td>0</td>\n",
       "      <td>0</td>\n",
       "      <td>0</td>\n",
       "    </tr>\n",
       "    <tr>\n",
       "      <th>2</th>\n",
       "      <td>0</td>\n",
       "      <td>0</td>\n",
       "      <td>0</td>\n",
       "      <td>0</td>\n",
       "      <td>0</td>\n",
       "      <td>0</td>\n",
       "      <td>0</td>\n",
       "      <td>0</td>\n",
       "      <td>0</td>\n",
       "      <td>0</td>\n",
       "      <td>...</td>\n",
       "      <td>0</td>\n",
       "      <td>0</td>\n",
       "      <td>0</td>\n",
       "      <td>0</td>\n",
       "      <td>0</td>\n",
       "      <td>0</td>\n",
       "      <td>0</td>\n",
       "      <td>0</td>\n",
       "      <td>0</td>\n",
       "      <td>0</td>\n",
       "    </tr>\n",
       "    <tr>\n",
       "      <th>3</th>\n",
       "      <td>0</td>\n",
       "      <td>0</td>\n",
       "      <td>0</td>\n",
       "      <td>0</td>\n",
       "      <td>0</td>\n",
       "      <td>0</td>\n",
       "      <td>0</td>\n",
       "      <td>0</td>\n",
       "      <td>0</td>\n",
       "      <td>0</td>\n",
       "      <td>...</td>\n",
       "      <td>0</td>\n",
       "      <td>0</td>\n",
       "      <td>0</td>\n",
       "      <td>0</td>\n",
       "      <td>0</td>\n",
       "      <td>0</td>\n",
       "      <td>0</td>\n",
       "      <td>0</td>\n",
       "      <td>0</td>\n",
       "      <td>0</td>\n",
       "    </tr>\n",
       "    <tr>\n",
       "      <th>4</th>\n",
       "      <td>0</td>\n",
       "      <td>0</td>\n",
       "      <td>0</td>\n",
       "      <td>0</td>\n",
       "      <td>0</td>\n",
       "      <td>0</td>\n",
       "      <td>0</td>\n",
       "      <td>0</td>\n",
       "      <td>0</td>\n",
       "      <td>0</td>\n",
       "      <td>...</td>\n",
       "      <td>0</td>\n",
       "      <td>0</td>\n",
       "      <td>0</td>\n",
       "      <td>0</td>\n",
       "      <td>0</td>\n",
       "      <td>0</td>\n",
       "      <td>0</td>\n",
       "      <td>0</td>\n",
       "      <td>0</td>\n",
       "      <td>0</td>\n",
       "    </tr>\n",
       "    <tr>\n",
       "      <th>...</th>\n",
       "      <td>...</td>\n",
       "      <td>...</td>\n",
       "      <td>...</td>\n",
       "      <td>...</td>\n",
       "      <td>...</td>\n",
       "      <td>...</td>\n",
       "      <td>...</td>\n",
       "      <td>...</td>\n",
       "      <td>...</td>\n",
       "      <td>...</td>\n",
       "      <td>...</td>\n",
       "      <td>...</td>\n",
       "      <td>...</td>\n",
       "      <td>...</td>\n",
       "      <td>...</td>\n",
       "      <td>...</td>\n",
       "      <td>...</td>\n",
       "      <td>...</td>\n",
       "      <td>...</td>\n",
       "      <td>...</td>\n",
       "      <td>...</td>\n",
       "    </tr>\n",
       "    <tr>\n",
       "      <th>98449</th>\n",
       "      <td>0</td>\n",
       "      <td>0</td>\n",
       "      <td>0</td>\n",
       "      <td>0</td>\n",
       "      <td>0</td>\n",
       "      <td>0</td>\n",
       "      <td>0</td>\n",
       "      <td>0</td>\n",
       "      <td>0</td>\n",
       "      <td>0</td>\n",
       "      <td>...</td>\n",
       "      <td>0</td>\n",
       "      <td>0</td>\n",
       "      <td>0</td>\n",
       "      <td>0</td>\n",
       "      <td>0</td>\n",
       "      <td>0</td>\n",
       "      <td>0</td>\n",
       "      <td>0</td>\n",
       "      <td>0</td>\n",
       "      <td>0</td>\n",
       "    </tr>\n",
       "    <tr>\n",
       "      <th>98450</th>\n",
       "      <td>0</td>\n",
       "      <td>0</td>\n",
       "      <td>0</td>\n",
       "      <td>0</td>\n",
       "      <td>0</td>\n",
       "      <td>0</td>\n",
       "      <td>0</td>\n",
       "      <td>0</td>\n",
       "      <td>0</td>\n",
       "      <td>0</td>\n",
       "      <td>...</td>\n",
       "      <td>0</td>\n",
       "      <td>0</td>\n",
       "      <td>0</td>\n",
       "      <td>0</td>\n",
       "      <td>0</td>\n",
       "      <td>0</td>\n",
       "      <td>0</td>\n",
       "      <td>0</td>\n",
       "      <td>0</td>\n",
       "      <td>0</td>\n",
       "    </tr>\n",
       "    <tr>\n",
       "      <th>98451</th>\n",
       "      <td>0</td>\n",
       "      <td>0</td>\n",
       "      <td>0</td>\n",
       "      <td>0</td>\n",
       "      <td>0</td>\n",
       "      <td>0</td>\n",
       "      <td>0</td>\n",
       "      <td>0</td>\n",
       "      <td>0</td>\n",
       "      <td>0</td>\n",
       "      <td>...</td>\n",
       "      <td>0</td>\n",
       "      <td>0</td>\n",
       "      <td>0</td>\n",
       "      <td>0</td>\n",
       "      <td>0</td>\n",
       "      <td>0</td>\n",
       "      <td>0</td>\n",
       "      <td>0</td>\n",
       "      <td>0</td>\n",
       "      <td>0</td>\n",
       "    </tr>\n",
       "    <tr>\n",
       "      <th>98452</th>\n",
       "      <td>0</td>\n",
       "      <td>0</td>\n",
       "      <td>0</td>\n",
       "      <td>0</td>\n",
       "      <td>0</td>\n",
       "      <td>0</td>\n",
       "      <td>0</td>\n",
       "      <td>0</td>\n",
       "      <td>0</td>\n",
       "      <td>0</td>\n",
       "      <td>...</td>\n",
       "      <td>0</td>\n",
       "      <td>0</td>\n",
       "      <td>0</td>\n",
       "      <td>0</td>\n",
       "      <td>0</td>\n",
       "      <td>0</td>\n",
       "      <td>0</td>\n",
       "      <td>0</td>\n",
       "      <td>0</td>\n",
       "      <td>0</td>\n",
       "    </tr>\n",
       "    <tr>\n",
       "      <th>98453</th>\n",
       "      <td>0</td>\n",
       "      <td>0</td>\n",
       "      <td>0</td>\n",
       "      <td>0</td>\n",
       "      <td>0</td>\n",
       "      <td>0</td>\n",
       "      <td>0</td>\n",
       "      <td>0</td>\n",
       "      <td>0</td>\n",
       "      <td>0</td>\n",
       "      <td>...</td>\n",
       "      <td>0</td>\n",
       "      <td>0</td>\n",
       "      <td>0</td>\n",
       "      <td>0</td>\n",
       "      <td>0</td>\n",
       "      <td>0</td>\n",
       "      <td>0</td>\n",
       "      <td>0</td>\n",
       "      <td>0</td>\n",
       "      <td>0</td>\n",
       "    </tr>\n",
       "  </tbody>\n",
       "</table>\n",
       "<p>98454 rows × 3000 columns</p>\n",
       "</div>"
      ],
      "text/plain": [
       "       năm  Israel  Liên bang Nga  TP.HCM  bão  điểm chuẩn  xét tuyển  \\\n",
       "0        0       0              0       0    0           0          0   \n",
       "1        0       0              0       0    0           0          0   \n",
       "2        0       0              0       0    0           0          0   \n",
       "3        0       0              0       0    0           0          0   \n",
       "4        0       0              0       0    0           0          0   \n",
       "...    ...     ...            ...     ...  ...         ...        ...   \n",
       "98449    0       0              0       0    0           0          0   \n",
       "98450    0       0              0       0    0           0          0   \n",
       "98451    0       0              0       0    0           0          0   \n",
       "98452    0       0              0       0    0           0          0   \n",
       "98453    0       0              0       0    0           0          0   \n",
       "\n",
       "       học sinh  giá vàng  Ukraine  ...  hình thức  Vietnam  thành viên  \\\n",
       "0             0         0        0  ...          0        0           0   \n",
       "1             0         0        0  ...          0        0           0   \n",
       "2             0         0        0  ...          0        0           0   \n",
       "3             0         0        0  ...          0        0           0   \n",
       "4             0         0        0  ...          0        0           0   \n",
       "...         ...       ...      ...  ...        ...      ...         ...   \n",
       "98449         0         0        0  ...          0        0           0   \n",
       "98450         0         0        0  ...          0        0           0   \n",
       "98451         0         0        0  ...          0        0           0   \n",
       "98452         0         0        0  ...          0        0           0   \n",
       "98453         0         0        0  ...          0        0           0   \n",
       "\n",
       "       Đông Nam Bộ  chuyện tình  Daniil Medvedev  tiền điện  vượt khó  \\\n",
       "0                0            0                0          0         0   \n",
       "1                0            0                0          0         0   \n",
       "2                0            0                0          0         0   \n",
       "3                0            0                0          0         0   \n",
       "4                0            0                0          0         0   \n",
       "...            ...          ...              ...        ...       ...   \n",
       "98449            0            0                0          0         0   \n",
       "98450            0            0                0          0         0   \n",
       "98451            0            0                0          0         0   \n",
       "98452            0            0                0          0         0   \n",
       "98453            0            0                0          0         0   \n",
       "\n",
       "       chia cắt  nhà trọ  \n",
       "0             0        0  \n",
       "1             0        0  \n",
       "2             0        0  \n",
       "3             0        0  \n",
       "4             0        0  \n",
       "...         ...      ...  \n",
       "98449         0        0  \n",
       "98450         0        0  \n",
       "98451         0        0  \n",
       "98452         0        0  \n",
       "98453         0        0  \n",
       "\n",
       "[98454 rows x 3000 columns]"
      ]
     },
     "execution_count": 13,
     "metadata": {},
     "output_type": "execute_result"
    }
   ],
   "source": [
    "y"
   ]
  },
  {
   "cell_type": "code",
   "execution_count": 19,
   "metadata": {
    "execution": {
     "iopub.execute_input": "2024-12-01T05:19:10.779239Z",
     "iopub.status.busy": "2024-12-01T05:19:10.778882Z",
     "iopub.status.idle": "2024-12-01T05:22:56.437208Z",
     "shell.execute_reply": "2024-12-01T05:22:56.436460Z",
     "shell.execute_reply.started": "2024-12-01T05:19:10.779209Z"
    },
    "trusted": true
   },
   "outputs": [],
   "source": [
    "# y.to_csv('multilabel.csv', index=False)  "
   ]
  },
  {
   "cell_type": "code",
   "execution_count": 14,
   "metadata": {
    "execution": {
     "iopub.execute_input": "2024-12-01T05:51:49.746941Z",
     "iopub.status.busy": "2024-12-01T05:51:49.746716Z",
     "iopub.status.idle": "2024-12-01T05:51:49.751958Z",
     "shell.execute_reply": "2024-12-01T05:51:49.750975Z",
     "shell.execute_reply.started": "2024-12-01T05:51:49.746919Z"
    },
    "trusted": true
   },
   "outputs": [
    {
     "name": "stdout",
     "output_type": "stream",
     "text": [
      "(98454, 3000)\n",
      "(98454, 3000)\n"
     ]
    }
   ],
   "source": [
    "print(Xfeatures.shape)\n",
    "print(y.shape)"
   ]
  },
  {
   "cell_type": "code",
   "execution_count": 15,
   "metadata": {
    "execution": {
     "iopub.execute_input": "2024-12-01T05:52:00.443296Z",
     "iopub.status.busy": "2024-12-01T05:52:00.442483Z",
     "iopub.status.idle": "2024-12-01T05:52:02.693155Z",
     "shell.execute_reply": "2024-12-01T05:52:02.692372Z",
     "shell.execute_reply.started": "2024-12-01T05:52:00.443258Z"
    },
    "trusted": true
   },
   "outputs": [],
   "source": [
    "# Split Data \n",
    "X_train,X_test,y_train,y_test = train_test_split(Xfeatures,y,test_size=0.2,random_state=42)"
   ]
  },
  {
   "cell_type": "code",
   "execution_count": 16,
   "metadata": {
    "execution": {
     "iopub.execute_input": "2024-12-01T05:52:10.935582Z",
     "iopub.status.busy": "2024-12-01T05:52:10.934695Z",
     "iopub.status.idle": "2024-12-01T05:52:10.940072Z",
     "shell.execute_reply": "2024-12-01T05:52:10.939161Z",
     "shell.execute_reply.started": "2024-12-01T05:52:10.935547Z"
    },
    "trusted": true
   },
   "outputs": [
    {
     "name": "stdout",
     "output_type": "stream",
     "text": [
      "(98454,)\n",
      "(78763, 3000)\n"
     ]
    }
   ],
   "source": [
    "print(df['clean_content'].shape)\n",
    "print(X_train.shape)"
   ]
  },
  {
   "cell_type": "code",
   "execution_count": 17,
   "metadata": {
    "execution": {
     "iopub.execute_input": "2024-12-01T05:52:17.381050Z",
     "iopub.status.busy": "2024-12-01T05:52:17.380693Z",
     "iopub.status.idle": "2024-12-01T05:52:17.386949Z",
     "shell.execute_reply": "2024-12-01T05:52:17.386181Z",
     "shell.execute_reply.started": "2024-12-01T05:52:17.381019Z"
    },
    "trusted": true
   },
   "outputs": [
    {
     "data": {
      "text/plain": [
       "['__builtins__',\n",
       " '__cached__',\n",
       " '__doc__',\n",
       " '__file__',\n",
       " '__loader__',\n",
       " '__name__',\n",
       " '__package__',\n",
       " '__path__',\n",
       " '__spec__',\n",
       " 'adapt',\n",
       " 'base',\n",
       " 'problem_transform',\n",
       " 'utils']"
      ]
     },
     "execution_count": 17,
     "metadata": {},
     "output_type": "execute_result"
    }
   ],
   "source": [
    "### Problem Transform\n",
    "import skmultilearn\n",
    "dir(skmultilearn)"
   ]
  },
  {
   "cell_type": "markdown",
   "metadata": {},
   "source": [
    "# Binary Relevance classficiation"
   ]
  },
  {
   "cell_type": "code",
   "execution_count": 18,
   "metadata": {
    "execution": {
     "iopub.execute_input": "2024-12-01T05:52:21.831528Z",
     "iopub.status.busy": "2024-12-01T05:52:21.831165Z",
     "iopub.status.idle": "2024-12-01T05:52:21.835908Z",
     "shell.execute_reply": "2024-12-01T05:52:21.834883Z",
     "shell.execute_reply.started": "2024-12-01T05:52:21.831497Z"
    },
    "trusted": true
   },
   "outputs": [],
   "source": [
    "# Convert Our Multi-Label Prob to Multi-Class\n",
    "# binary classficiation\n",
    "binary_rel_clf = BinaryRelevance(MultinomialNB())"
   ]
  },
  {
   "cell_type": "code",
   "execution_count": 19,
   "metadata": {
    "execution": {
     "iopub.execute_input": "2024-12-01T05:52:24.713684Z",
     "iopub.status.busy": "2024-12-01T05:52:24.712957Z",
     "iopub.status.idle": "2024-12-01T08:41:10.462229Z",
     "shell.execute_reply": "2024-12-01T08:41:10.461067Z",
     "shell.execute_reply.started": "2024-12-01T05:52:24.713648Z"
    },
    "trusted": true
   },
   "outputs": [
    {
     "data": {
      "text/html": [
       "<style>#sk-container-id-2 {color: black;background-color: white;}#sk-container-id-2 pre{padding: 0;}#sk-container-id-2 div.sk-toggleable {background-color: white;}#sk-container-id-2 label.sk-toggleable__label {cursor: pointer;display: block;width: 100%;margin-bottom: 0;padding: 0.3em;box-sizing: border-box;text-align: center;}#sk-container-id-2 label.sk-toggleable__label-arrow:before {content: \"▸\";float: left;margin-right: 0.25em;color: #696969;}#sk-container-id-2 label.sk-toggleable__label-arrow:hover:before {color: black;}#sk-container-id-2 div.sk-estimator:hover label.sk-toggleable__label-arrow:before {color: black;}#sk-container-id-2 div.sk-toggleable__content {max-height: 0;max-width: 0;overflow: hidden;text-align: left;background-color: #f0f8ff;}#sk-container-id-2 div.sk-toggleable__content pre {margin: 0.2em;color: black;border-radius: 0.25em;background-color: #f0f8ff;}#sk-container-id-2 input.sk-toggleable__control:checked~div.sk-toggleable__content {max-height: 200px;max-width: 100%;overflow: auto;}#sk-container-id-2 input.sk-toggleable__control:checked~label.sk-toggleable__label-arrow:before {content: \"▾\";}#sk-container-id-2 div.sk-estimator input.sk-toggleable__control:checked~label.sk-toggleable__label {background-color: #d4ebff;}#sk-container-id-2 div.sk-label input.sk-toggleable__control:checked~label.sk-toggleable__label {background-color: #d4ebff;}#sk-container-id-2 input.sk-hidden--visually {border: 0;clip: rect(1px 1px 1px 1px);clip: rect(1px, 1px, 1px, 1px);height: 1px;margin: -1px;overflow: hidden;padding: 0;position: absolute;width: 1px;}#sk-container-id-2 div.sk-estimator {font-family: monospace;background-color: #f0f8ff;border: 1px dotted black;border-radius: 0.25em;box-sizing: border-box;margin-bottom: 0.5em;}#sk-container-id-2 div.sk-estimator:hover {background-color: #d4ebff;}#sk-container-id-2 div.sk-parallel-item::after {content: \"\";width: 100%;border-bottom: 1px solid gray;flex-grow: 1;}#sk-container-id-2 div.sk-label:hover label.sk-toggleable__label {background-color: #d4ebff;}#sk-container-id-2 div.sk-serial::before {content: \"\";position: absolute;border-left: 1px solid gray;box-sizing: border-box;top: 0;bottom: 0;left: 50%;z-index: 0;}#sk-container-id-2 div.sk-serial {display: flex;flex-direction: column;align-items: center;background-color: white;padding-right: 0.2em;padding-left: 0.2em;position: relative;}#sk-container-id-2 div.sk-item {position: relative;z-index: 1;}#sk-container-id-2 div.sk-parallel {display: flex;align-items: stretch;justify-content: center;background-color: white;position: relative;}#sk-container-id-2 div.sk-item::before, #sk-container-id-2 div.sk-parallel-item::before {content: \"\";position: absolute;border-left: 1px solid gray;box-sizing: border-box;top: 0;bottom: 0;left: 50%;z-index: -1;}#sk-container-id-2 div.sk-parallel-item {display: flex;flex-direction: column;z-index: 1;position: relative;background-color: white;}#sk-container-id-2 div.sk-parallel-item:first-child::after {align-self: flex-end;width: 50%;}#sk-container-id-2 div.sk-parallel-item:last-child::after {align-self: flex-start;width: 50%;}#sk-container-id-2 div.sk-parallel-item:only-child::after {width: 0;}#sk-container-id-2 div.sk-dashed-wrapped {border: 1px dashed gray;margin: 0 0.4em 0.5em 0.4em;box-sizing: border-box;padding-bottom: 0.4em;background-color: white;}#sk-container-id-2 div.sk-label label {font-family: monospace;font-weight: bold;display: inline-block;line-height: 1.2em;}#sk-container-id-2 div.sk-label-container {text-align: center;}#sk-container-id-2 div.sk-container {/* jupyter's `normalize.less` sets `[hidden] { display: none; }` but bootstrap.min.css set `[hidden] { display: none !important; }` so we also need the `!important` here to be able to override the default hidden behavior on the sphinx rendered scikit-learn.org. See: https://github.com/scikit-learn/scikit-learn/issues/21755 */display: inline-block !important;position: relative;}#sk-container-id-2 div.sk-text-repr-fallback {display: none;}</style><div id=\"sk-container-id-2\" class=\"sk-top-container\"><div class=\"sk-text-repr-fallback\"><pre>BinaryRelevance(classifier=MultinomialNB(), require_dense=[True, True])</pre><b>In a Jupyter environment, please rerun this cell to show the HTML representation or trust the notebook. <br />On GitHub, the HTML representation is unable to render, please try loading this page with nbviewer.org.</b></div><div class=\"sk-container\" hidden><div class=\"sk-item sk-dashed-wrapped\"><div class=\"sk-label-container\"><div class=\"sk-label sk-toggleable\"><input class=\"sk-toggleable__control sk-hidden--visually\" id=\"sk-estimator-id-2\" type=\"checkbox\" ><label for=\"sk-estimator-id-2\" class=\"sk-toggleable__label sk-toggleable__label-arrow\">BinaryRelevance</label><div class=\"sk-toggleable__content\"><pre>BinaryRelevance(classifier=MultinomialNB(), require_dense=[True, True])</pre></div></div></div><div class=\"sk-parallel\"><div class=\"sk-parallel-item\"><div class=\"sk-item\"><div class=\"sk-label-container\"><div class=\"sk-label sk-toggleable\"><input class=\"sk-toggleable__control sk-hidden--visually\" id=\"sk-estimator-id-3\" type=\"checkbox\" ><label for=\"sk-estimator-id-3\" class=\"sk-toggleable__label sk-toggleable__label-arrow\">classifier: MultinomialNB</label><div class=\"sk-toggleable__content\"><pre>MultinomialNB()</pre></div></div></div><div class=\"sk-serial\"><div class=\"sk-item\"><div class=\"sk-estimator sk-toggleable\"><input class=\"sk-toggleable__control sk-hidden--visually\" id=\"sk-estimator-id-4\" type=\"checkbox\" ><label for=\"sk-estimator-id-4\" class=\"sk-toggleable__label sk-toggleable__label-arrow\">MultinomialNB</label><div class=\"sk-toggleable__content\"><pre>MultinomialNB()</pre></div></div></div></div></div></div></div></div></div></div>"
      ],
      "text/plain": [
       "BinaryRelevance(classifier=MultinomialNB(), require_dense=[True, True])"
      ]
     },
     "execution_count": 19,
     "metadata": {},
     "output_type": "execute_result"
    }
   ],
   "source": [
    "binary_rel_clf.fit(X_train,y_train)"
   ]
  },
  {
   "cell_type": "code",
   "execution_count": null,
   "metadata": {
    "trusted": true
   },
   "outputs": [],
   "source": [
    "# # Sử dụng cross-validation với 5 folds và đánh giá bằng F1-micro\n",
    "# scores = cross_val_score(binary_rel_clf, X_train, y_train, cv=5, scoring='f1_micro')\n",
    "\n",
    "# # In kết quả\n",
    "# print(\"F1-micro scores for each fold: \", scores)\n",
    "# print(\"Mean F1-micro: \", np.mean(scores))                                                                  "
   ]
  },
  {
   "cell_type": "code",
   "execution_count": 20,
   "metadata": {
    "execution": {
     "iopub.execute_input": "2024-12-01T08:51:05.803376Z",
     "iopub.status.busy": "2024-12-01T08:51:05.802585Z",
     "iopub.status.idle": "2024-12-01T08:56:33.006944Z",
     "shell.execute_reply": "2024-12-01T08:56:33.005427Z",
     "shell.execute_reply.started": "2024-12-01T08:51:05.803330Z"
    },
    "trusted": true
   },
   "outputs": [],
   "source": [
    "# Predictions\n",
    "br_prediction = binary_rel_clf.predict(X_test)"
   ]
  },
  {
   "cell_type": "code",
   "execution_count": 21,
   "metadata": {
    "execution": {
     "iopub.execute_input": "2024-12-01T08:56:33.014897Z",
     "iopub.status.busy": "2024-12-01T08:56:33.014265Z",
     "iopub.status.idle": "2024-12-01T08:56:33.024463Z",
     "shell.execute_reply": "2024-12-01T08:56:33.022730Z",
     "shell.execute_reply.started": "2024-12-01T08:56:33.014836Z"
    },
    "trusted": true
   },
   "outputs": [
    {
     "data": {
      "text/plain": [
       "<Compressed Sparse Column sparse matrix of dtype 'int8'\n",
       "\twith 166631 stored elements and shape (19691, 3000)>"
      ]
     },
     "execution_count": 21,
     "metadata": {},
     "output_type": "execute_result"
    }
   ],
   "source": [
    "br_prediction "
   ]
  },
  {
   "cell_type": "code",
   "execution_count": 22,
   "metadata": {
    "execution": {
     "iopub.execute_input": "2024-12-01T08:58:29.850939Z",
     "iopub.status.busy": "2024-12-01T08:58:29.850157Z",
     "iopub.status.idle": "2024-12-01T08:58:29.866166Z",
     "shell.execute_reply": "2024-12-01T08:58:29.865124Z",
     "shell.execute_reply.started": "2024-12-01T08:58:29.850903Z"
    },
    "trusted": true
   },
   "outputs": [
    {
     "data": {
      "text/plain": [
       "array([[0, 0, 0, ..., 0, 0, 0],\n",
       "       [0, 0, 0, ..., 0, 0, 0],\n",
       "       [0, 0, 0, ..., 0, 0, 0],\n",
       "       ...,\n",
       "       [0, 0, 0, ..., 0, 0, 0],\n",
       "       [0, 0, 0, ..., 0, 0, 0],\n",
       "       [0, 0, 0, ..., 0, 0, 0]], dtype=int8)"
      ]
     },
     "execution_count": 22,
     "metadata": {},
     "output_type": "execute_result"
    }
   ],
   "source": [
    "# Convert to Array  To See Result\n",
    "br_prediction.toarray()"
   ]
  },
  {
   "cell_type": "code",
   "execution_count": 27,
   "metadata": {
    "execution": {
     "iopub.execute_input": "2024-12-01T08:59:22.932249Z",
     "iopub.status.busy": "2024-12-01T08:59:22.931817Z",
     "iopub.status.idle": "2024-12-01T08:59:26.756690Z",
     "shell.execute_reply": "2024-12-01T08:59:26.755741Z",
     "shell.execute_reply.started": "2024-12-01T08:59:22.932214Z"
    },
    "trusted": true
   },
   "outputs": [
    {
     "name": "stdout",
     "output_type": "stream",
     "text": [
      "Accuracy:  0.00010156924483266467\n",
      "F1 Micro:  0.32367003298951474\n"
     ]
    }
   ],
   "source": [
    "# Accuracy\n",
    "accuracy = accuracy_score(y_test,br_prediction)\n",
    "\n",
    "# Tính F1-micro\n",
    "f1_micro = f1_score(y_test, br_prediction, average='micro')\n",
    "\n",
    "print(\"Accuracy: \", accuracy)\n",
    "print(\"F1 Micro: \", f1_micro)"
   ]
  },
  {
   "cell_type": "code",
   "execution_count": 28,
   "metadata": {
    "execution": {
     "iopub.execute_input": "2024-12-01T08:59:50.010840Z",
     "iopub.status.busy": "2024-12-01T08:59:50.010006Z",
     "iopub.status.idle": "2024-12-01T08:59:51.279091Z",
     "shell.execute_reply": "2024-12-01T08:59:51.278158Z",
     "shell.execute_reply.started": "2024-12-01T08:59:50.010804Z"
    },
    "trusted": true
   },
   "outputs": [
    {
     "data": {
      "text/plain": [
       "0.005098183603338242"
      ]
     },
     "execution_count": 28,
     "metadata": {},
     "output_type": "execute_result"
    }
   ],
   "source": [
    "# Hamming Loss :Incorrect Predictions\n",
    "# The Lower the result the better\n",
    "hamming_loss(y_test,br_prediction)"
   ]
  },
  {
   "cell_type": "code",
   "execution_count": null,
   "metadata": {
    "trusted": true
   },
   "outputs": [],
   "source": [
    "binary_rel_clf = BinaryRelevance(MultinomialNB())\n",
    "\n",
    "# Cross-validation với 5 folds và đánh giá bằng F1-micro\n",
    "\n",
    "kf = KFold(n_splits=5, shuffle=True, random_state=42)\n",
    "scores = cross_val_score(binary_rel_clf, X_train, y_train, cv=kf, scoring='f1_micro')\n",
    "print(f'F1-micro scores from cross-validation: {scores}')\n",
    "print(f'Mean F1-micro score: {scores.mean()}')\n",
    "\n",
    "# Huấn luyện lại mô hình trên toàn bộ dữ liệu huấn luyện\n",
    "binary_rel_clf.fit(X_train, y_train)\n",
    "\n",
    "# Dự đoán trên tập test\n",
    "y_pred = binary_rel_clf.predict(X_test)\n",
    "\n",
    "# Tính F1-micro trên tập test\n",
    "f1_test = f1_score(y_test, y_pred, average='micro')\n",
    "print(f'F1-micro score on the test set: {f1_test}')"
   ]
  },
  {
   "cell_type": "markdown",
   "metadata": {},
   "source": [
    "# Classifier Chains"
   ]
  },
  {
   "cell_type": "code",
   "execution_count": null,
   "metadata": {},
   "outputs": [],
   "source": [
    "def build_model(model,mlb_estimator,xtrain,ytrain,xtest,ytest):\n",
    "    clf = mlb_estimator(model)\n",
    "    clf.fit(xtrain,ytrain)\n",
    "    # Predict\n",
    "    clf_predictions = clf.predict(xtest)\n",
    "    # Check For Accuracy\n",
    "    acc = accuracy_score(ytest,clf_predictions)\n",
    "    ham = hamming_loss(ytest,clf_predictions)\n",
    "    result = {\"accuracy:\":acc,\"hamming_score\":ham}\n",
    "    return result"
   ]
  },
  {
   "cell_type": "code",
   "execution_count": null,
   "metadata": {},
   "outputs": [],
   "source": [
    "clf_chain_model = build_model(MultinomialNB(),ClassifierChain,X_train,y_train,X_test,y_test)\n",
    "clf_chain_model\n"
   ]
  },
  {
   "cell_type": "markdown",
   "metadata": {},
   "source": [
    "# Label Powerset\n"
   ]
  },
  {
   "cell_type": "code",
   "execution_count": null,
   "metadata": {},
   "outputs": [],
   "source": [
    "clf_labelP_model = build_model(MultinomialNB(),LabelPowerset,X_train,y_train,X_test,y_test)"
   ]
  },
  {
   "cell_type": "code",
   "execution_count": null,
   "metadata": {},
   "outputs": [],
   "source": [
    "clf_labelP_model"
   ]
  },
  {
   "cell_type": "code",
   "execution_count": null,
   "metadata": {},
   "outputs": [],
   "source": [
    "ex1 = df['title'].iloc[0]"
   ]
  },
  {
   "cell_type": "code",
   "execution_count": null,
   "metadata": {},
   "outputs": [],
   "source": [
    "# Vectorized \n",
    "vec_example = tfidf.transform([ex1])"
   ]
  },
  {
   "cell_type": "code",
   "execution_count": null,
   "metadata": {},
   "outputs": [],
   "source": [
    "# Make our prediction\n",
    "binary_rel_clf.predict(vec_example).toarray()"
   ]
  },
  {
   "cell_type": "markdown",
   "metadata": {},
   "source": [
    "# Lưu và chạy lại"
   ]
  },
  {
   "cell_type": "code",
   "execution_count": 29,
   "metadata": {
    "execution": {
     "iopub.execute_input": "2024-12-01T09:00:08.807414Z",
     "iopub.status.busy": "2024-12-01T09:00:08.806573Z",
     "iopub.status.idle": "2024-12-01T09:00:08.811218Z",
     "shell.execute_reply": "2024-12-01T09:00:08.810176Z",
     "shell.execute_reply.started": "2024-12-01T09:00:08.807379Z"
    },
    "trusted": true
   },
   "outputs": [],
   "source": [
    "import joblib"
   ]
  },
  {
   "cell_type": "code",
   "execution_count": 30,
   "metadata": {
    "execution": {
     "iopub.execute_input": "2024-12-01T09:00:11.422062Z",
     "iopub.status.busy": "2024-12-01T09:00:11.421706Z",
     "iopub.status.idle": "2024-12-01T09:00:12.718456Z",
     "shell.execute_reply": "2024-12-01T09:00:12.717491Z",
     "shell.execute_reply.started": "2024-12-01T09:00:11.422030Z"
    },
    "trusted": true
   },
   "outputs": [
    {
     "name": "stdout",
     "output_type": "stream",
     "text": [
      "Mô hình đã được lưu!\n"
     ]
    }
   ],
   "source": [
    "# joblib.dump(binary_rel_clf, 'binary_rel_clf_model_1.pkl')\n",
    "\n",
    "\n",
    "# Save Model\n",
    "binary_rel_clf_file = open(\"binary_rel_clf_model_file_1.pkl\",\"wb\")\n",
    "joblib.dump(binary_rel_clf,binary_rel_clf_file)\n",
    "binary_rel_clf_file.close()\n",
    "print(\"Mô hình đã được lưu!\")"
   ]
  },
  {
   "cell_type": "code",
   "execution_count": 31,
   "metadata": {
    "execution": {
     "iopub.execute_input": "2024-12-01T09:00:38.165888Z",
     "iopub.status.busy": "2024-12-01T09:00:38.165522Z",
     "iopub.status.idle": "2024-12-01T09:00:38.482515Z",
     "shell.execute_reply": "2024-12-01T09:00:38.481708Z",
     "shell.execute_reply.started": "2024-12-01T09:00:38.165855Z"
    },
    "trusted": true
   },
   "outputs": [],
   "source": [
    "# Save Vectorizer\n",
    "tfidf_vectorizer_file = open(\"tfidf_vectorizer_SO_tags_file.pkl\",\"wb\")\n",
    "joblib.dump(tfidf,tfidf_vectorizer_file)\n",
    "tfidf_vectorizer_file.close()"
   ]
  },
  {
   "cell_type": "code",
   "execution_count": null,
   "metadata": {
    "trusted": true
   },
   "outputs": [],
   "source": [
    "# Tải lại mô hình đã lưu\n",
    "binary_rel_clf_loaded = joblib.load('binary_rel_clf_model_1.pkl')\n",
    "\n",
    "# Tiếp tục huấn luyện mô hình với dữ liệu mới (nếu có)\n",
    "binary_rel_clf_loaded.fit(X_train, y_train)"
   ]
  }
 ],
 "metadata": {
  "kaggle": {
   "accelerator": "none",
   "dataSources": [
    {
     "datasetId": 6184534,
     "sourceId": 10039837,
     "sourceType": "datasetVersion"
    }
   ],
   "dockerImageVersionId": 30787,
   "isGpuEnabled": false,
   "isInternetEnabled": true,
   "language": "python",
   "sourceType": "notebook"
  },
  "kernelspec": {
   "display_name": "Python 3",
   "language": "python",
   "name": "python3"
  },
  "language_info": {
   "codemirror_mode": {
    "name": "ipython",
    "version": 3
   },
   "file_extension": ".py",
   "mimetype": "text/x-python",
   "name": "python",
   "nbconvert_exporter": "python",
   "pygments_lexer": "ipython3",
   "version": "3.10.14"
  }
 },
 "nbformat": 4,
 "nbformat_minor": 4
}
